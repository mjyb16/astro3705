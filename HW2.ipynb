{
 "cells": [
  {
   "cell_type": "markdown",
   "metadata": {},
   "source": [
    "# Question 1:\n",
    "\n",
    "### Part A:\n",
    "I usually spend 3 weeks at home in the winter, 10 weeks at home in the summer, 4 days at home for Thanksgiving, and 9 days at home for spring break, totalling 104 days. \n",
    "\n",
    "I also usually spend about 5 of those days on a trip to the beach with my family, leaving 99 days sleeping at home.\n",
    "\n",
    "This leaves 261 days at college, of which I usually spend 2 nights travelling with outdoors club in the mountains.\n",
    "\n",
    "Thus, the prior probabilities are:\n",
    "\n",
    "P(Home) = 99/365 = 27.1%\n",
    "\n",
    "P(Traveling) = 7/365 = 1.9%\n",
    "\n",
    "P(College) = 259/365 = 71.0%\n",
    "\n",
    "\n",
    "### Part B:\n",
    "\n",
    "Given that I hear the ocean, we need to find the likelihood of hearing the ocean in each location:\n",
    "\n",
    "P(ocean sounds | home) = 0/99, since I do not live on the water and no one in my family would be watching a movie about the ocean in the morning.\n",
    "\n",
    "P(ocean sounds | vacation) = 5/7, since I travel to the beach 5 out of the 7 days I travel.\n",
    "\n",
    "P(ocean sounds | college) = 0/259, since Pitt is not near the ocean and my roommate would not be watching a movie about the ocean in the morning.\n",
    "\n",
    "We can also say that P(ocean sounds) = 5/365, since that is how many days I spend \n",
    "\n",
    "\n",
    "\n",
    "### Result for part B:\n",
    "\n",
    "Thus, the probabilities of me waking up in different places from Bayes Thm:\n",
    "\n",
    "P(Home | ocean sounds) = P(ocean sounds | home) * P(Home) / P(ocean sounds) = 0\n",
    "\n",
    "P(Vacation | ocean sounds) = P(ocean sounds | vacation) * P(vacation) / P(ocean sounds) = (5/7) * (7/365) / (5/365) = 1\n",
    "\n",
    "P(College | ocean sounds) = P(ocean sounds | College) * P(college) / P(ocean sounds) = 0\n",
    "\n",
    "#### Thus, there is 100% probability that I am on vacation if I hear ocean sounds in the morning."
   ]
  },
  {
   "cell_type": "markdown",
   "metadata": {},
   "source": [
    "# Question 2:\n",
    "\n",
    "#### Prior used (unless uniform=True): \n",
    "\n",
    "A reasonable first guess is the uniform prior, since we know the order of magnitude of p (between 0 and 1), and we don't need transformation invariance since we are going to stick with proportions. Also, we can reasonably assume that values of p near 0.5 are at least as likely as values near 0 or 1 (elections in the US are almost never landslides), while the Jeffreys prior (and Haldane) assume that values near 0 or 1 are more likely. However, we also know that Pennsylvania is usually a battleground state, so we should actually choose a distribution that peaks near 0.5 (not uniform). One option is to use the ratio of registered democrats to registered republicans in a binomial prior, but this requires an assumption about the ratio of democratic-leaning to republican-leaning independents (same as ratio of party-affiliated voters) as well as an assumption about turnout, both of which we we cannot draw a conclusion about. A better option, especially since one of the candidates is an incumbent, is to use the proportion from the previous election as a binomial prior, and treat the poll as an \"update\" to our belief about the system since then (slide 29, lecture 6). We can weight the previous election lightly to reflect the possibility that voter preferences have changed in the meantime. A calculation of the weight is made by assuming the following consistency condition: in 95% of elections, the proportion of a candidate's votes will be within 0.15 of the previous election's results for the candidate from the same party. This is consistent with previous results in Pennsylvania in the era known as the Sixth Party System (1972-current). Thus, we can assume that 2$\\sigma$ = 0.15N, where N is the effective \"sample size\" for our prior indicating our degree of belief, and calculate N using the formula for binomial $\\sigma$ = $\\sqrt{N*p*(1-p)}$. This yields an effective N ~ 44.3 for the prior for Biden, and N ~ 44.4 for the prior for Trump."
   ]
  },
  {
   "cell_type": "code",
   "execution_count": 17,
   "metadata": {},
   "outputs": [],
   "source": [
    "import election_polling as ep"
   ]
  },
  {
   "cell_type": "markdown",
   "metadata": {},
   "source": [
    "#### Distribution of results:"
   ]
  },
  {
   "cell_type": "code",
   "execution_count": 18,
   "metadata": {},
   "outputs": [
    {
     "name": "stdout",
     "output_type": "stream",
     "text": [
      "Probability of poll accuracy for democrats:\n",
      "+/- 0.01: 0.430348414047545\n",
      "    0.02: 0.7446368270397548\n",
      "    0.03: 0.9121490550848238\n",
      "    0.04: 0.9772182206286344\n",
      "    0.05: 0.99560084120987\n",
      "    0.1: 0.9999892980350744\n",
      "\n",
      "Probability of poll accuracy for republicans:\n",
      "+/- 0.01: 0.4312138264761985\n",
      "    0.02: 0.7457027457042842\n",
      "    0.03: 0.9128607380509826\n",
      "    0.04: 0.9775227001070578\n",
      "    0.05: 0.9956882916825537\n",
      "    0.1: 0.999988490778047\n",
      "\n"
     ]
    }
   ],
   "source": [
    "print(\"Probability of poll accuracy for democrats:\\n\" + \n",
    "      f\"+/- 0.01: {ep.dem_prob_2020(772, 394, 0.01)}\\n\\\n",
    "    0.02: {ep.dem_prob_2020(772, 394, 0.02)}\\n\\\n",
    "    0.03: {ep.dem_prob_2020(772, 394, 0.03)}\\n\\\n",
    "    0.04: {ep.dem_prob_2020(772, 394, 0.04)}\\n\\\n",
    "    0.05: {ep.dem_prob_2020(772, 394, 0.05)}\\n\\\n",
    "    0.1: {ep.dem_prob_2020(772, 394, 0.1)}\\n\")\n",
    "\n",
    "print(\"Probability of poll accuracy for republicans:\\n\" + \n",
    "      f\"+/- 0.01: {ep.rep_prob_2020(772, 394, 0.01)}\\n\\\n",
    "    0.02: {ep.rep_prob_2020(772, 394, 0.02)}\\n\\\n",
    "    0.03: {ep.rep_prob_2020(772, 394, 0.03)}\\n\\\n",
    "    0.04: {ep.rep_prob_2020(772, 394, 0.04)}\\n\\\n",
    "    0.05: {ep.rep_prob_2020(772, 394, 0.05)}\\n\\\n",
    "    0.1: {ep.rep_prob_2020(772, 394, 0.1)}\\n\")"
   ]
  },
  {
   "cell_type": "markdown",
   "metadata": {},
   "source": [
    "Fortunately, for the Marist poll we are in the limit where the prior does not change probabilities much, since switching to a uniform prior gives only slightly less-strong constraints:"
   ]
  },
  {
   "cell_type": "code",
   "execution_count": 19,
   "metadata": {},
   "outputs": [
    {
     "name": "stdout",
     "output_type": "stream",
     "text": [
      "Probability of poll accuracy for democrats, uniform prior:\n",
      "+/- 0.01: 0.4220674908060955\n",
      "    0.02: 0.7343537988221598\n",
      "    0.03: 0.9051869849409073\n",
      "    0.04: 0.9741781370790087\n",
      "    0.05: 0.9947009875819788\n",
      "    0.1: 0.9999918862007855\n",
      "\n",
      "Probability of poll accuracy for republicans, uniform prior:\n",
      "+/- 0.01: 0.4231596156635507\n",
      "    0.02: 0.7356964339370274\n",
      "    0.03: 0.9060557008020031\n",
      "    0.04: 0.9744868183488867\n",
      "    0.05: 0.9946991091171776\n",
      "    0.1: 0.9998575837553266\n",
      "\n"
     ]
    }
   ],
   "source": [
    "print(\"Probability of poll accuracy for democrats, uniform prior:\\n\" + \n",
    "      f\"+/- 0.01: {ep.dem_prob_2020(772, 394, 0.01, True)}\\n\\\n",
    "    0.02: {ep.dem_prob_2020(772, 394, 0.02, True)}\\n\\\n",
    "    0.03: {ep.dem_prob_2020(772, 394, 0.03, True)}\\n\\\n",
    "    0.04: {ep.dem_prob_2020(772, 394, 0.04, True)}\\n\\\n",
    "    0.05: {ep.dem_prob_2020(772, 394, 0.05, True)}\\n\\\n",
    "    0.1: {ep.dem_prob_2020(772, 394, 0.1, True)}\\n\")\n",
    "\n",
    "print(\"Probability of poll accuracy for republicans, uniform prior:\\n\" + \n",
    "      f\"+/- 0.01: {ep.rep_prob_2020(772, 355, 0.01, True)}\\n\\\n",
    "    0.02: {ep.rep_prob_2020(772, 355, 0.02, True)}\\n\\\n",
    "    0.03: {ep.rep_prob_2020(772, 355, 0.03, True)}\\n\\\n",
    "    0.04: {ep.rep_prob_2020(772, 355, 0.04, True)}\\n\\\n",
    "    0.05: {ep.rep_prob_2020(772, 355, 0.05, True)}\\n\\\n",
    "    0.1: {ep.rep_prob_2020(772, 355, 0.1, True)}\\n\")"
   ]
  },
  {
   "cell_type": "markdown",
   "metadata": {},
   "source": [
    "#### Evaluating election results \n",
    "We know that the Biden result differed from the poll by 0.0099, and the Trump result differed from the poll by 0.028."
   ]
  },
  {
   "cell_type": "code",
   "execution_count": 20,
   "metadata": {},
   "outputs": [
    {
     "data": {
      "text/plain": [
       "0.4264821062539621"
      ]
     },
     "execution_count": 20,
     "metadata": {},
     "output_type": "execute_result"
    }
   ],
   "source": [
    "ep.dem_prob_2020(772, 394, 0.0099)"
   ]
  },
  {
   "cell_type": "code",
   "execution_count": 21,
   "metadata": {},
   "outputs": [
    {
     "data": {
      "text/plain": [
       "0.8909814592614466"
      ]
     },
     "execution_count": 21,
     "metadata": {},
     "output_type": "execute_result"
    }
   ],
   "source": [
    "ep.rep_prob_2020(772, 355, 0.028)"
   ]
  },
  {
   "cell_type": "markdown",
   "metadata": {},
   "source": [
    "For the Biden vote, the Marist poll seems pretty accurate. The probability of the Biden election result being closer to the poll than observed is only 42.6%.\n",
    "\n",
    "For the Trump vote, it seems that the Marist poll made a slight underestimate, albeit not a statistically significant one. The probability of the Trump election result being closer to the poll than observed is 89%, which means that had the polling been accurate, the election result would likely have been closer to the poll's prediction than it turned out to be. However, this is below the 95% threshold for statistical significance. \n",
    "\n",
    "Thus, the Biden result is consistent with polling, while the Trump result is not, but not significantly so."
   ]
  },
  {
   "cell_type": "code",
   "execution_count": null,
   "metadata": {},
   "outputs": [],
   "source": []
  }
 ],
 "metadata": {
  "kernelspec": {
   "display_name": "Python 3",
   "language": "python",
   "name": "python3"
  },
  "language_info": {
   "codemirror_mode": {
    "name": "ipython",
    "version": 3
   },
   "file_extension": ".py",
   "mimetype": "text/x-python",
   "name": "python",
   "nbconvert_exporter": "python",
   "pygments_lexer": "ipython3",
   "version": "3.7.4"
  }
 },
 "nbformat": 4,
 "nbformat_minor": 4
}
