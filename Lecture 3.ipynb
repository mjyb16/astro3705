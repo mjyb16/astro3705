{
 "cells": [
  {
   "cell_type": "markdown",
   "metadata": {},
   "source": [
    "# Lecture 3: Exploring Probability\n",
    "\n",
    "We pretty much always want to start notebooks with this line to do standard imports and make sure figures show up in the notebook:"
   ]
  },
  {
   "cell_type": "code",
   "execution_count": null,
   "metadata": {},
   "outputs": [],
   "source": [
    "%pylab inline"
   ]
  },
  {
   "cell_type": "markdown",
   "metadata": {},
   "source": [
    "## More work with modules\n",
    "\n",
    "You should have put the function from lecture2.ipynb in a file we can use as a module.  Our code was:\n",
    "\n",
    "\n",
    "    import numpy.random as random\n",
    "    import numpy as np\n",
    "    \n",
    "    def sim2coins(ntests):\n",
    "        # simulate ntests tosses of 2 coins \n",
    "        coin1=random.rand(ntests) > 0.5\n",
    "        coin2=random.rand(ntests) > 0.5\n",
    "        return np.sum( coin1 == coin2 )/ntests\n",
    "        \n",
    "You should have placed this in a file named sim2coins.py .     \n",
    "\n",
    "__Next import and test your code: change the number of simulations below.__"
   ]
  },
  {
   "cell_type": "code",
   "execution_count": 3,
   "metadata": {},
   "outputs": [
    {
     "name": "stdout",
     "output_type": "stream",
     "text": [
      "0.50082\n"
     ]
    }
   ],
   "source": [
    "import sim2coins as s2c\n",
    "\n",
    "ntests = 5E4\n",
    "print(s2c.sim2coins( int(ntests) ) )"
   ]
  },
  {
   "cell_type": "markdown",
   "metadata": {},
   "source": [
    "__Now, modify sim2coins to check for the fraction of cases where coin1 is tails (==False) and coin2 is heads (==True).  Run that code below.__  Note that you will need to use `np.logical_and`; you can also get help on it in the code box below, using ?.  For convenience, you should also make it convert ntests to an integer using the `int()` function."
   ]
  },
  {
   "cell_type": "code",
   "execution_count": null,
   "metadata": {},
   "outputs": [],
   "source": []
  },
  {
   "cell_type": "code",
   "execution_count": null,
   "metadata": {},
   "outputs": [],
   "source": []
  },
  {
   "cell_type": "markdown",
   "metadata": {},
   "source": [
    "Python will automatically compile a module the first time you import it.  However, to save time it won't automatically recompile a routine after that.  We have to force it to.\n",
    "\n",
    "To get python to incorporate our changes, just reimporting won't do it.  __Do `reload(s2c)` in the below code box, and test your code again in the box below.__  \n",
    "\n",
    "(Note: you could also go to the Kernel menu above and choose 'Restart', then the Cell menu above and do 'run all'; but that's overkill)."
   ]
  },
  {
   "cell_type": "code",
   "execution_count": 2,
   "metadata": {},
   "outputs": [
    {
     "data": {
      "text/plain": [
       "<module 'sim2coins' from '/root/AstronomySoftware/astro3705/python/sim2coins.py'>"
      ]
     },
     "execution_count": 2,
     "metadata": {},
     "output_type": "execute_result"
    }
   ],
   "source": [
    "from imp import reload\n",
    "reload(s2c)"
   ]
  },
  {
   "cell_type": "code",
   "execution_count": null,
   "metadata": {},
   "outputs": [],
   "source": []
  },
  {
   "cell_type": "markdown",
   "metadata": {},
   "source": [
    "## Testing the frequentist definition of probability\n",
    "\n",
    "Let's calculate the fraction of successes for different numbers of trials.  __Note there are a couple of items I want you to predict and discuss with your group!__"
   ]
  },
  {
   "cell_type": "code",
   "execution_count": null,
   "metadata": {},
   "outputs": [],
   "source": [
    "nsims_list=np.array([100,500,1000,5000,1E4,5E4,1E5,1E6])\n",
    "\n",
    "nsims_list=nsims_list.astype(int) # can convert the array to integers all at once\n",
    "\n",
    "# PREDICT AND DISCUSS:\n",
    "result=nsims_list*0.\n",
    "print(result)\n"
   ]
  },
  {
   "cell_type": "code",
   "execution_count": null,
   "metadata": {},
   "outputs": [],
   "source": [
    "# PREDICT AND DISCUSS:\n",
    "for i,nsims in enumerate(nsims_list):\n",
    "     result[i]=s2c.sim2coins(nsims )\n",
    "\n",
    "print(result)\n",
    "        \n",
    "#PUT YOUR CODE FOR PLOTTING IN THIS CODE BOX! \n",
    "#WHEN YOU MODIFY TO LOOP THROUGH 20 TIMES, DO THAT IN THIS BOX TOO\n",
    "#  (MAKE SURE THE PLOT COMMAND IS INSIDE THE LOOP!)"
   ]
  },
  {
   "cell_type": "code",
   "execution_count": null,
   "metadata": {},
   "outputs": [],
   "source": []
  },
  {
   "cell_type": "markdown",
   "metadata": {},
   "source": [
    "# Plotting and exploring\n",
    "\n",
    "__In the code cell above, plot the fraction of successes as a function of the number of simulations.__\n",
    "\n",
    "Now, make a series of modifications:\n",
    "\n",
    "__1) Plot the result with 0.25 (the expected probability) subtracted from it, as a function of nsims, with the below changes.__\n",
    "- Plot the points as green stars (look at the help on `plt.plot()` ).  \n",
    "- Use a logarithmic x axis (look at the help on `plt.xscale` or `plt.semilogx`)\n",
    "- Use a y axis range from -0.05 to +0.05 (look at the help on `plt.ylim()`)\n",
    "\n",
    "__2) By adding another, outer for loop, repeat the calculation 20 times, overplotting all the results.__\n",
    "\t\tIf you put all the plot commands in the same code box (within the loop), all the plots will be shown on the same axes, as we want.\n",
    "\n",
    "__3) Overplot the line y=0 to help guide the eye.__\n",
    "\n",
    "__Extra: If your group is done and you are waiting around for other groups, add code to overplot the average of all the results at each `nsims` value as a line.  Add labels to your axes and a title to the figure.  Remember that you can type plt. and then hit tab to get a list of all the functions in the `plt` (actually `pyplot`) library.__"
   ]
  },
  {
   "cell_type": "code",
   "execution_count": null,
   "metadata": {},
   "outputs": [],
   "source": []
  },
  {
   "cell_type": "markdown",
   "metadata": {},
   "source": [
    "## Simulating Dice\n",
    "\n",
    "__Here are 3 ways for generating dice rolls.  Check that they give similar results in the average using np.mean().__ Note that I have not filled in all the code for the `np.ceil()` method as an exercise for you to fill in."
   ]
  },
  {
   "cell_type": "code",
   "execution_count": null,
   "metadata": {},
   "outputs": [],
   "source": [
    "nsims=1000\n",
    "\n",
    "#Floor: \n",
    "rolls_f=np.floor(random.rand(nsims)*6) + 1\n",
    "\n",
    "#Round:\n",
    "rolls_r=np.round(random.rand(nsims)*6 + 0.5)\n",
    "\n",
    "#Ceil:\n",
    "#rolls_c = np.ceil( ??? ) # Your code here\n"
   ]
  },
  {
   "cell_type": "code",
   "execution_count": null,
   "metadata": {},
   "outputs": [],
   "source": []
  },
  {
   "cell_type": "markdown",
   "metadata": {},
   "source": [
    "## Plotting histograms\n",
    "\n",
    "Below we plot a histogram of die rolls.\n",
    "\n",
    "__In the below code box, use the `bins` and `range` keywords with `plt.hist()` to plot the results in 6 bins, centered at 1,2,3,...6.  This is not how the bins will be set up by default!__  \n",
    "\n",
    "As usual, you can do `?plt.hist()` to see the help information."
   ]
  },
  {
   "cell_type": "code",
   "execution_count": null,
   "metadata": {},
   "outputs": [],
   "source": [
    "plt.hist(rolls_f)"
   ]
  },
  {
   "cell_type": "markdown",
   "metadata": {},
   "source": [
    "# Multi-Dimensional Arrays \n",
    "\n",
    "A numpy array need not have only one dimension.  E.g.:\n",
    "\n",
    "    img = np.zeros( (200,200) )\n",
    "\n",
    "will create a 200 x 200 array, with zeros everywhere.  \n",
    "\n",
    "Note: `np.zeros()` and similar routines can take a tuple of dimension sizes as input, for arbitrary numbers of dimensions. \n",
    "\n"
   ]
  },
  {
   "cell_type": "code",
   "execution_count": null,
   "metadata": {},
   "outputs": [],
   "source": []
  },
  {
   "cell_type": "markdown",
   "metadata": {},
   "source": [
    "## Rolling 10 dice\n",
    "\n",
    "Two options: the slow way and the fast way.  First, some setup:"
   ]
  },
  {
   "cell_type": "code",
   "execution_count": null,
   "metadata": {},
   "outputs": [],
   "source": [
    "nsims = int(2E4)\n",
    "rolls=np.floor(random.rand(nsims,10)*6 ) + 1\n"
   ]
  },
  {
   "cell_type": "code",
   "execution_count": null,
   "metadata": {},
   "outputs": [],
   "source": [
    "%%timeit \n",
    "# %%timeit will determine how long the code in this cell takes to execute.\n",
    "# This calculation does it the slow way \n",
    "total_roll=np.zeros(nsims) \n",
    "for i in arange(nsims):\n",
    "     total_roll[i]=np.sum(rolls[i,:])"
   ]
  },
  {
   "cell_type": "code",
   "execution_count": null,
   "metadata": {},
   "outputs": [],
   "source": [
    "%%timeit\n",
    "#This code does things the fast way\n",
    "total_roll=np.sum(rolls,axis=1)\n"
   ]
  },
  {
   "cell_type": "markdown",
   "metadata": {},
   "source": [
    "### Plotting the results\n",
    "\n",
    "__Use `plt.hist(total_roll)` to examine the results of your simulation in the below code box... adjust the number of bins and range as necessary to show all the values in the array__ (you may find `np.min()` and `np.max()` helpful)"
   ]
  },
  {
   "cell_type": "code",
   "execution_count": null,
   "metadata": {},
   "outputs": [],
   "source": [
    "total_roll=np.sum(rolls,axis=1)\n",
    "# add histogram plotting code here!"
   ]
  },
  {
   "cell_type": "markdown",
   "metadata": {},
   "source": [
    "### Simulating more dice\n",
    "\n",
    "We can just simulate once, and take sums over different subsets with array slicing.\n",
    "\n",
    "__Modify the below code cell to plot histograms for, 2, 5, 10, and 100 rolls.__"
   ]
  },
  {
   "cell_type": "code",
   "execution_count": null,
   "metadata": {},
   "outputs": [],
   "source": [
    "nsims=int(2E4)\n",
    "rolls=np.floor(random.rand(nsims,100)*6 ) + 1\n",
    "\n",
    "# add up to get results for the sum of 5 die rolls\n",
    "total_roll_5=np.sum(rolls[:,0:5],axis=1)\n",
    "#or just go ahead and plot that quantity:\n",
    "plt.hist(np.sum(rolls[:,0:5],axis=1),range=[0,30],bins=30)\n"
   ]
  },
  {
   "cell_type": "markdown",
   "metadata": {},
   "source": [
    "# Saving output to a file\n",
    "\n",
    "You can use `plt.savefig(\"<filename>\")` in the above code box to store the plot in a file named `<filename>`.\n",
    "\n",
    "__Save your plot in a PDF file named spam.pdf__.  Then, using the Mac finder/linux file explorer or the below code box, view the file.  In ipython, you can issue shell commands by preceding them by '!'."
   ]
  },
  {
   "cell_type": "code",
   "execution_count": null,
   "metadata": {},
   "outputs": [],
   "source": []
  },
  {
   "cell_type": "markdown",
   "metadata": {},
   "source": [
    "# If you have extra time\n",
    "\n",
    "Try changing one of your plots to use a different font, choosing based upon your own aesthetic preferences.  See the example at http://matplotlib.org/examples/pylab_examples/fonts_demo.html  .\n",
    "\n",
    "If you find something you like, you may want to change your default font; see http://matplotlib.org/users/customizing.html .\n",
    "\n",
    "Try rolling even more dice, or plotting the mean roll (using `np.mean`) instead of the sum."
   ]
  },
  {
   "cell_type": "code",
   "execution_count": null,
   "metadata": {},
   "outputs": [],
   "source": []
  }
 ],
 "metadata": {
  "anaconda-cloud": {},
  "kernelspec": {
   "display_name": "Python 3",
   "language": "python",
   "name": "python3"
  },
  "language_info": {
   "codemirror_mode": {
    "name": "ipython",
    "version": 3
   },
   "file_extension": ".py",
   "mimetype": "text/x-python",
   "name": "python",
   "nbconvert_exporter": "python",
   "pygments_lexer": "ipython3",
   "version": "3.7.4"
  }
 },
 "nbformat": 4,
 "nbformat_minor": 4
}
