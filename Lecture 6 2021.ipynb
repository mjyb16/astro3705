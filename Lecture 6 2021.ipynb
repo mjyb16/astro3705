{
 "cells": [
  {
   "cell_type": "markdown",
   "metadata": {},
   "source": [
    "We pretty much always want to start notebooks with this line:"
   ]
  },
  {
   "cell_type": "code",
   "execution_count": null,
   "metadata": {},
   "outputs": [],
   "source": [
    "%pylab inline"
   ]
  },
  {
   "cell_type": "markdown",
   "metadata": {},
   "source": [
    "## Plotting distributions in Python\n",
    "\n",
    "Suppose you observe a set of 8 different early-type (red sequence / non-star-forming / elliptical/S0) galaxies and observe AGN signatures from three of them.  What can we conclude about the probability p that a randomly chosen early-type galaxy has an AGN?\n",
    "\n",
    "We want to plot the posterior distribution for our binomial case with different choices of prior.  \n",
    "\n",
    "We plot the likelihood and the different priors below. __Which prior would you expect to have the greatest effect on your results?__"
   ]
  },
  {
   "cell_type": "code",
   "execution_count": null,
   "metadata": {},
   "outputs": [],
   "source": [
    "p=np.linspace(0.,1.,501) # set up an evenly-spaced array of probability values\n",
    "\n",
    "# set up the likelihood function (unnormalized) and plot it.\n",
    "likelihood=p**3 * (1-p)**5\n",
    "plt.figure(0)\n",
    "plt.plot(p,likelihood)\n",
    "\n",
    "# set up the priors: Haldane, Jeffreys, and uniform\n",
    "prior_h=1/p/(1-p)\n",
    "prior_j=sqrt(prior_h)\n",
    "prior_u=p*0.+1.\n",
    "\n",
    "# Plot the priors (with different line styles/colors). \n",
    "plt.figure(1)\n",
    "plt.plot(p,prior_h,label='Haldane')\n",
    "plt.plot(p,prior_j,label='Jeffreys')\n",
    "plt.plot(p,prior_u,label='Uniform')\n",
    "plt.legend()\n",
    "\n",
    "# Plot them with a log y axis (with different line styles/colors). \n",
    "plt.figure(2)\n",
    "plt.semilogy(p,prior_h,label='Haldane')\n",
    "plt.semilogy(p,prior_j,label='Jeffreys')\n",
    "plt.semilogy(p,prior_u,label='Uniform')\n",
    "plt.legend()\n",
    "\n"
   ]
  },
  {
   "cell_type": "markdown",
   "metadata": {},
   "source": [
    "## Posterior distributions for each choice of prior\n",
    "\n",
    "Now we want to plot the posterior probability distributions, using our likelihood and each possibility for the prior.\n",
    "\n",
    "__Using a y range from 0 to 0.03, plot the likelihood and the posterior assuming each different prior, using different lines or plot symbols for each.__  (Note: you will want to use `plt.ylim()` to set the y range explicitly)."
   ]
  },
  {
   "cell_type": "code",
   "execution_count": null,
   "metadata": {},
   "outputs": [],
   "source": [
    "?plt.ylim"
   ]
  },
  {
   "cell_type": "code",
   "execution_count": null,
   "metadata": {},
   "outputs": [],
   "source": []
  },
  {
   "cell_type": "markdown",
   "metadata": {},
   "source": [
    "# Which posterior is most strongly peaked (i.e., gives us the most aggressive constraints on p)?\n",
    "\n",
    "To be able to compare the posteriors to each other, we really need to normalize them the same way.  I.e.: it's hard to tell the answer from this plot:"
   ]
  },
  {
   "cell_type": "code",
   "execution_count": null,
   "metadata": {},
   "outputs": [],
   "source": [
    "plt.plot(p,likelihood*prior_h,'b-',label = 'Haldane')\n",
    "plt.plot(p,likelihood*prior_j,'r--',label='Jeffreys')\n",
    "plt.plot(p,likelihood*prior_u,'g-.',label='Uniform')\n",
    "plt.legend()"
   ]
  },
  {
   "cell_type": "markdown",
   "metadata": {},
   "source": [
    "# Interpolation and Calculus in Python\n",
    "\n",
    "A simple recipe for 1D integration in Python:\n",
    "\n",
    "1) create arrays of x and f(x), where f(x) is the function you want to integrate or differentiate. \n",
    "\n",
    "2) Use `scipy.interpolate.interp1d()` to create a Python function (just like `np.sin(x)`, etc.) that interpolates between the tabulated values of x and f(x).  \n",
    "\n"
   ]
  },
  {
   "cell_type": "code",
   "execution_count": null,
   "metadata": {},
   "outputs": [],
   "source": [
    "import scipy.interpolate as interpol\n",
    "x = linspace(-np.pi,3*np.pi,100)\n",
    "#we want interpolation table to extend beyond bounds we will use\n",
    "x_fine = linspace(0,2*np.pi,10_000)\n",
    "f = np.cos(x)\n",
    "interp_f = interpol.interp1d(x,f,kind='cubic') \n",
    "# interp_f is a new Python function!\n",
    "plt.plot( x_fine,interp_f(x_fine),'r-' )\n",
    "plt.plot(x,f,'bo',markersize=2)\n",
    "plt.xlim(0,2*np.pi)"
   ]
  },
  {
   "cell_type": "markdown",
   "metadata": {},
   "source": [
    "__To integrate:__ one routine is `scipy.integrate.quad(function name, lower limit, upper limit)`"
   ]
  },
  {
   "cell_type": "code",
   "execution_count": null,
   "metadata": {},
   "outputs": [],
   "source": [
    "import scipy.integrate as integrate\n",
    "\n",
    "# another trick with f-strings, added in Python 3.8: \"f-string debugging\"\n",
    "# f'{expression=}' is the same as doing f'expression = {expression}' , where expressiomn is any Python expression\n",
    "\n",
    "print(f'{integrate.quad(interp_f,0,np.pi/2) = }')\n",
    "# note that the routine returns a tuple of the integral and an imperfect estimate of uncertainty\n",
    "value,err = integrate.quad(interp_f,0,np.pi/2)\n",
    "print(f'{(1-value)/err = }')"
   ]
  },
  {
   "cell_type": "markdown",
   "metadata": {},
   "source": [
    "__To differentiate__: one routine is `scipy.misc.derivative(function name,x value[s],dx=[dx value for calculations])`.  E.g.:"
   ]
  },
  {
   "cell_type": "code",
   "execution_count": null,
   "metadata": {},
   "outputs": [],
   "source": [
    "import scipy.misc as misc\n",
    "der = misc.derivative(interp_f,x_fine,dx=1E-3)\n",
    "plt.plot(x_fine,der,'b--')"
   ]
  },
  {
   "cell_type": "markdown",
   "metadata": {},
   "source": [
    "## Calculating our normalizations\n",
    "\n",
    "__In the below code box, calculate the normalizations for each posterior that you'd divide by to force the integral of the posterior to be one.__ I've done one example for you."
   ]
  },
  {
   "cell_type": "code",
   "execution_count": null,
   "metadata": {},
   "outputs": [],
   "source": [
    "#set up variables for each posterior\n",
    "posterior_u = interpol.interp1d(p,likelihood*prior_u,kind='cubic')\n",
    "posterior_j = interpol.interp1d(p,likelihood*prior_j,kind='cubic')\n",
    "posterior_h = interpol.interp1d(p,likelihood*prior_h,kind='cubic')\n",
    "\n",
    "# calculate the integral of each posterior, to figure out the normalization\n",
    "norm_u=(integrate.quad(posterior_u,0.,1.))[0]\n",
    "norm_j=(integrate.quad(posterior_j,0.,1.))[0]\n",
    "norm_h=(integrate.quad(posterior_h,0.,1.))[0]\n",
    "# we need the [0] because we want the first element of the output tuple\n",
    "\n",
    "# Did this work?\n",
    "print(f'{norm_u = } , {norm_j = } , {norm_h = }')\n"
   ]
  },
  {
   "cell_type": "code",
   "execution_count": null,
   "metadata": {},
   "outputs": [],
   "source": []
  },
  {
   "cell_type": "markdown",
   "metadata": {},
   "source": [
    "# Dealing with NaNs (not-a-numbers)\n",
    "\n",
    "2 options:\n",
    "\n",
    "1) never generate them in the first place.  This one isn't very interesting or very general:"
   ]
  },
  {
   "cell_type": "code",
   "execution_count": null,
   "metadata": {},
   "outputs": [],
   "source": [
    "prob_u=likelihood\n",
    "prob_h=p**2*(1-p)**4\n",
    "prob_j=p**2.5*(1-p)**4.5\n",
    "\n",
    "posterior_u = interpol.interp1d(p,prob_u,kind='cubic')\n",
    "norm_u=(integrate.quad(posterior_u,0.,1.))[0]\n",
    "\n",
    "\n",
    "posterior_h = interpol.interp1d(p,prob_h,kind='cubic')\n",
    "norm_h=(integrate.quad(posterior_h,0.,1.))[0]\n",
    "\n",
    "\n",
    "posterior_j = interpol.interp1d(p,prob_j,kind='cubic')\n",
    "norm_j=(integrate.quad(posterior_j,0.,1.))[0]\n",
    "\n",
    "# Did this work?\n",
    "print(f'{norm_u = } , {norm_j = } , {norm_h = }')\n"
   ]
  },
  {
   "cell_type": "markdown",
   "metadata": {},
   "source": [
    "2) Use `np.isfinite()` and `np.where()` to find and fix the problematic values\n",
    "\n",
    "np.isfinite() tests each value in an array to see if it is finite (not infinity/NaN) or not.  __Explain the below results to your group:__"
   ]
  },
  {
   "cell_type": "code",
   "execution_count": null,
   "metadata": {},
   "outputs": [],
   "source": [
    "print( np.sum(np.isfinite(p)==False) )\n",
    "print( np.sum(np.isfinite(prior_u)==False) )\n",
    "print( np.sum(np.isfinite(prior_h)==False) )\n"
   ]
  },
  {
   "cell_type": "markdown",
   "metadata": {},
   "source": [
    "# `np.where`\n",
    "\n",
    "One of the most powerful python functions!  Returns the __array indices__ where some condition is true.  __Explain the below results.__  "
   ]
  },
  {
   "cell_type": "code",
   "execution_count": null,
   "metadata": {},
   "outputs": [],
   "source": [
    "test=np.array([1,2,3,4,5.])\n",
    "print( np.where(test == 3) )\n",
    "print( np.where(test > 2) )\n",
    "print()\n",
    "print(test[np.where(test > 2)] )"
   ]
  },
  {
   "cell_type": "markdown",
   "metadata": {},
   "source": [
    "## An alternative: array slicing with a logical expression\n",
    "\n",
    "This often works, though is slightly more fragile/prone to bugs in my experience:"
   ]
  },
  {
   "cell_type": "code",
   "execution_count": null,
   "metadata": {},
   "outputs": [],
   "source": [
    "print(test[test == 3] )\n",
    "print(test[test > 2] )"
   ]
  },
  {
   "cell_type": "markdown",
   "metadata": {},
   "source": [
    "## Using `np.where` with `np.isfinite`\n",
    "\n"
   ]
  },
  {
   "cell_type": "code",
   "execution_count": null,
   "metadata": {},
   "outputs": [],
   "source": [
    "# So we can get the array indices where prior_h blows up with :\n",
    "\n",
    "whbad=np.where( np.isfinite(prior_h)==False)\n",
    "print(whbad)\n",
    "print()\n",
    "\n",
    "# Let's repair the problem:\n",
    "prior_h[whbad]=0\n",
    "prior_j[whbad]=0\n",
    "posterior_h = interpol.interp1d(p,likelihood*prior_h,kind='cubic')\n",
    "posterior_j = interpol.interp1d(p,likelihood*prior_j,kind='cubic')\n",
    "\n",
    "norm_h=integrate.quad(posterior_h,0.,1.)[0]\n",
    "norm_j=integrate.quad(posterior_j,0.,1.)[0]\n",
    "\n",
    "# Did this work?\n",
    "print(f'{norm_u = } , {norm_j = } , {norm_h = }')\n"
   ]
  },
  {
   "cell_type": "markdown",
   "metadata": {},
   "source": [
    "## Time for results!\n",
    "\n",
    "__Now, plot up all 3 posteriors for p on the same plot, properly normalized.__  \n",
    "\n",
    "__Some things to look for:__\n",
    "\n",
    "- Where does the posterior peak in each case?  How does this compare to the observed fraction (3/8)?\n",
    "\n",
    "- For which prior do you get the tightest constraint on $p$?  (Hint: since the integral is one, a tighter distribution will have a higher peak).__\n"
   ]
  },
  {
   "cell_type": "code",
   "execution_count": null,
   "metadata": {},
   "outputs": [],
   "source": []
  },
  {
   "cell_type": "markdown",
   "metadata": {},
   "source": [
    "# What happens if we have more data?\n",
    "\n",
    "Montero-Dorta et al. 2008 found that, of 710 red galaxies, 213 had AGN and 497 did not.  What is the probability distribution for the true probability a red (early-type) galaxy has an AGN, $p$, given each prior we considered before?\n",
    "\n",
    "__What do we want for__ `likelihood` for this case?\n",
    "\n",
    "__Do the priors change?__\n",
    "\n",
    "__Redo the normalizations and plot the normalized posteriors for the new likelihood, for each prior we considered.__\n",
    "\n",
    "__Some things to look for:__\n",
    "\n",
    "- Where does the posterior peak in each case?  How does this compare to the observed fraction (213/710)?\n",
    "\n",
    "- For which prior do you get the tightest constraint on $p$?  (Hint: since the integral is one, a tighter distribution will have a higher peak).__\n"
   ]
  },
  {
   "cell_type": "code",
   "execution_count": null,
   "metadata": {},
   "outputs": [],
   "source": []
  },
  {
   "cell_type": "markdown",
   "metadata": {},
   "source": [
    "## Using a previous result as a prior\n",
    "\n",
    "Suppose you've read the Montero-Dorta et al. paper, in which 213 out of 710 red sequence galaxies had AGN. You can treat that result as a prior for future analyses of similar samples.\n",
    "\n",
    "You then observed that 3 out of 8 galaxies in your sample had AGN.   \n",
    "\n",
    "__Plot the posterior probability distribution for $p$ when you combine the likelihood from your new sample with the Montero-Dorta prior.__ \n",
    "\n",
    "__Compare where it peaks to (3/8) and (213/710)__ ..."
   ]
  },
  {
   "cell_type": "code",
   "execution_count": null,
   "metadata": {},
   "outputs": [],
   "source": []
  },
  {
   "cell_type": "markdown",
   "metadata": {},
   "source": [
    "# If you have extra time... \n",
    "\n",
    "- Choose a particular prior. Plot the posterior distributions if you observed 0 out of 8, 2 out of 8, 3 out of 8, and 4 out of 8 galaxies to have AGN.  Where does the posterior peak in each case?\n",
    "\n",
    "- Derive an analytic expression for where the posterior will peak, for each choice of prior.  How does this peak compare to the fraction of AGN in the observations?  Check your expression by overplotting your result on the posterior plot as a vertical line, using `plt.axvline`."
   ]
  },
  {
   "cell_type": "code",
   "execution_count": null,
   "metadata": {},
   "outputs": [],
   "source": []
  }
 ],
 "metadata": {
  "anaconda-cloud": {},
  "kernelspec": {
   "display_name": "Python 3",
   "language": "python",
   "name": "python3"
  },
  "language_info": {
   "codemirror_mode": {
    "name": "ipython",
    "version": 3
   },
   "file_extension": ".py",
   "mimetype": "text/x-python",
   "name": "python",
   "nbconvert_exporter": "python",
   "pygments_lexer": "ipython3",
   "version": "3.8.5"
  }
 },
 "nbformat": 4,
 "nbformat_minor": 1
}
