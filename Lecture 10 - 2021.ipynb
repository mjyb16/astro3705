{
 "cells": [
  {
   "cell_type": "code",
   "execution_count": 1,
   "metadata": {},
   "outputs": [
    {
     "name": "stdout",
     "output_type": "stream",
     "text": [
      "Populating the interactive namespace from numpy and matplotlib\n"
     ]
    }
   ],
   "source": [
    "%pylab inline\n",
    "import scipy.stats as stats\n",
    "import astropy.stats as astats\n",
    "import numpy.random as random"
   ]
  },
  {
   "cell_type": "markdown",
   "metadata": {},
   "source": [
    "# Results when averaging data together"
   ]
  },
  {
   "cell_type": "code",
   "execution_count": 2,
   "metadata": {},
   "outputs": [],
   "source": [
    "nsims=int(1E5)\n",
    "navg=100\n",
    "data=random.randn(nsims,navg)\n",
    "\n",
    "# average each set of navg values\n",
    "means=np.mean(data,axis=1)"
   ]
  },
  {
   "cell_type": "markdown",
   "metadata": {},
   "source": [
    "- Using the below code block, __plot a histogram of the distribution of the means from each simulation, with binsize 0.01, over the range from -2 to +2 (what should you set the `bins` and `range` keywords to be for that?)__\n",
    "\n",
    "- __Determine the standard deviation of the array of means.__"
   ]
  },
  {
   "cell_type": "code",
   "execution_count": 3,
   "metadata": {},
   "outputs": [
    {
     "data": {
      "image/png": "[encoded data removed]",
      "text/plain": [
       "<Figure size 432x288 with 1 Axes>"
      ]
     },
     "metadata": {
      "needs_background": "light"
     },
     "output_type": "display_data"
    },
    {
     "name": "stdout",
     "output_type": "stream",
     "text": [
      "0.09961793952384748 0.3329520435169291\n"
     ]
    }
   ],
   "source": [
    "data2=random.randn(nsims,9)\n",
    "means2=np.mean(data2,axis=1)\n",
    "plt.hist(means, bins = 400, range = (-2, 2))\n",
    "plt.hist(means2, bins = 400, range = (-2, 2))\n",
    "plt.show()\n",
    "print(np.std(means), np.std(means2))"
   ]
  },
  {
   "cell_type": "markdown",
   "metadata": {},
   "source": [
    "- Now, in the same code box, also __create a second set of simulations with `navg` = 9.  Plot the histogram of results from these simulations on top of the histogram for averaging 100 measurements, and calculate the standard deviation of the new array of means.__\n",
    "\n",
    "\n",
    "\n",
    "- __Discuss with your group: How do you explain the differences between the results (both qualitatively and quantitatively)? How does the scatter of the means scale with `navg`?__"
   ]
  },
  {
   "cell_type": "code",
   "execution_count": null,
   "metadata": {},
   "outputs": [],
   "source": []
  },
  {
   "cell_type": "markdown",
   "metadata": {},
   "source": [
    "# Determining the Asymptotic Relative Efficiency of the median\n",
    "\n",
    "__Run the code in the below box repeatedly; what is the ratio of standard deviations of the medians vs. the means?__  \n",
    "\n",
    "__Discuss with your group: What does this imply about the sample size needed for the standard deviation of the median to match the standard deviation of the mean?__"
   ]
  },
  {
   "cell_type": "code",
   "execution_count": 4,
   "metadata": {},
   "outputs": [
    {
     "name": "stdout",
     "output_type": "stream",
     "text": [
      "std. dev. of the means: 0.0143\n",
      "std. dev. of the medians: 0.0179\n",
      "ratio of std. devs.: 1.2494\n"
     ]
    }
   ],
   "source": [
    "nsims=int(1E4)\n",
    "navg=int(5E3)\n",
    "data=random.randn(nsims,navg)\n",
    "means=np.mean(data,axis=1)\n",
    "medians=np.median(data,axis=1)\n",
    "\n",
    "print(f'std. dev. of the means: {np.std(means,ddof=1):.4f}')\n",
    "print(f'std. dev. of the medians: {np.std(medians,ddof=1):.4f}')\n",
    "\n",
    "print(f'ratio of std. devs.: {np.std(medians,ddof=1)/ np.std(means,ddof=1):.4f}')\n"
   ]
  },
  {
   "cell_type": "markdown",
   "metadata": {},
   "source": [
    "# Examples of applying robust statistics\n",
    "\n",
    "For convenience, let's define two functions: `hlmean` and `mode2`."
   ]
  },
  {
   "cell_type": "code",
   "execution_count": 5,
   "metadata": {},
   "outputs": [],
   "source": [
    "def hlmean(data,nsamp=-1):\n",
    "    # PURPOSE:\n",
    "    #\n",
    "    #  Calculate Hodges-Lehmann estimator of mean, using nsamp\n",
    "    #   bootstraps from the data\n",
    "    #\n",
    "    # The Hodges-Lehmann estimator is, formally, the median value of\n",
    "    #  (x_i+x_j)/2 over all pairs of indices i,j .\n",
    "    # Here, we estimate that quantity using nsamp randomly chosen values\n",
    "    # of i & j, rather than using all possible values.\n",
    "    #\n",
    "    # Although it has much of the robustness of an ordinary median, the\n",
    "    # H-L estimator yields much smaller errors (equivalent to the mean of\n",
    "    # >96% as much data, while the median has errors equivalent to the\n",
    "    # standard error of 64% as much data).\n",
    "    #\n",
    "    # CALLING SEQUENCE:\n",
    "    #\n",
    "    #  result=hlmean(data [,nsamp=nsamp])\n",
    "    #\n",
    "    # INPUTS:\n",
    "    #\n",
    "    #  data: array of values to calculate the H-L mean of\n",
    "    #\n",
    "    # OPTIONAL KEYWORD PARAMETERS:\n",
    "    #\n",
    "    #  nsamp= : if set, hlmean will use this number of bootstrap\n",
    "    #  samples to do the calculation.  If not set, it will use a number of random pairs equal to\n",
    "    #  50 times the number of elements of the data array\n",
    "    #\n",
    "    # OUTPUTS:\n",
    "    #\n",
    "    #  result: sampling-derived estimate of the H-L mean estimator\n",
    "    #\n",
    "    # EXAMPLE:\n",
    "    #    test=[1,2,0,1,2,20.]\n",
    "    #    print hlmean(test)\n",
    "    \n",
    "    ndata=len(data)\n",
    "    \n",
    "    # if the number of samples has not been provided, set it to 50*the size of the data array\n",
    "    \n",
    "    if nsamp < 0:\n",
    "        nsamp=50.*ndata\n",
    "    nsamp=int(nsamp)\n",
    "\n",
    "# create resampled version of original data\n",
    "    newdata = np.random.choice(data,size=(nsamp,2))\n",
    "    \n",
    "    # average x1 + x2 from each random draw\n",
    "    mn = (newdata[:,0]+newdata[:,1])/2.\n",
    "    \n",
    "    # calculate the median of the averages\n",
    "    return(np.median(mn))\n"
   ]
  },
  {
   "cell_type": "code",
   "execution_count": 6,
   "metadata": {},
   "outputs": [],
   "source": [
    "def mode2(data,**kwargs):\n",
    "# note: provide bins and (optionally) range keywords to not use\n",
    "# defaults of np.histogram (10 bins, full range)\n",
    "    counts,edges=np.histogram(data,**kwargs)\n",
    "    whmax=np.argmax(counts)\n",
    "    mode=(edges[whmax]+edges[whmax+1])/2\n",
    "    return(mode)"
   ]
  },
  {
   "cell_type": "markdown",
   "metadata": {},
   "source": [
    "## Trying different statistics for location\n",
    "\n",
    "Now, let's generate $10^5$ values from a standard normal distribution, and compare various statistics for the location of the sample.  __What value do you expect here?  Which statistics come closest? Compare results with your neighbors!__"
   ]
  },
  {
   "cell_type": "code",
   "execution_count": 7,
   "metadata": {},
   "outputs": [],
   "source": [
    "ndata=int(1E5)\n",
    "data=random.randn(ndata)\n"
   ]
  },
  {
   "cell_type": "code",
   "execution_count": 8,
   "metadata": {},
   "outputs": [
    {
     "name": "stdout",
     "output_type": "stream",
     "text": [
      "Mean: -0.0002\n",
      "Median: 0.0013\n",
      "Mode: 0.3150\n",
      "H-L mean: 0.0002\n",
      "\n",
      "10% Trimmed mean: 0.0007\n",
      "Sigma-clipped: 0.0004\n",
      "\n",
      "Winsorized: 0.0004\n",
      "Biweight: 0.0011\n"
     ]
    }
   ],
   "source": [
    "print(f'Mean: {data.mean():.4f}')\n",
    "print(f'Median: {np.median(data):.4f}')\n",
    "print(f'Mode: {mode2(data,bins=np.linspace(-10,10,2001)):.4f}')\n",
    "print(f'H-L mean: {hlmean(data):.4f}')\n",
    "print()\n",
    "\n",
    "limits=np.percentile(data,(10,90))\n",
    "print(f'10% Trimmed mean: {stats.tmean(data,limits=limits):.4f}')\n",
    "\n",
    "clipped_data,low_threshold,high_threshold =  \\\n",
    "    stats.sigmaclip(data,low=3.,high=3.)\n",
    "\n",
    "print(f'Sigma-clipped: {np.mean(clipped_data):.4f}')\n",
    "\n",
    "print()\n",
    "winsor_data = stats.mstats.winsorize(data,limits=(.1,.1))\n",
    "print(f'Winsorized: {np.mean(winsor_data):.4f}')\n",
    "print(f'Biweight: {astats.biweight_location(data):.4f}')"
   ]
  },
  {
   "cell_type": "markdown",
   "metadata": {},
   "source": [
    "# Doing a more complicated Monte Carlo\n",
    "\n",
    "Consider a mixture of two Gaussians: a fraction  $(1-f_{outlier})$  of objects are distributed as $N(3150,930^2)$, and a fraction $f_{outlier}$ are distributed as $N(4750,200^2)$.  We can implement this by randomly selecting objects as outliers with probability $f_{outlier}$, and assigning random values according to whether they are an outlier or not."
   ]
  },
  {
   "cell_type": "code",
   "execution_count": 9,
   "metadata": {},
   "outputs": [],
   "source": [
    "nsims=int(5E4)\n",
    "ndata=100\n",
    "foutlier=0.1\n",
    "\n",
    "isoutlier=random.rand(nsims,ndata) < foutlier\n",
    "\n",
    "fakedata=(1-isoutlier)*(random.randn(nsims,ndata)*930.+3150) \\\n",
    "+ (isoutlier)*(random.randn(nsims,ndata)*200.+4750)\n"
   ]
  },
  {
   "cell_type": "markdown",
   "metadata": {},
   "source": [
    "__In the code box below, plot a histogram of the full set of fake data; and then choose one single simulation and plot the histogram for it. Use a bin size of 100 km/s.__  \n",
    "\n",
    "__Note__: To plot histograms of a multi-dimensional array, use `np.ravel(arrayname)`, not just `arrayname`, in the call to `plt.hist`.  That routine causes Python to treat the array as one-dimensional.  "
   ]
  },
  {
   "cell_type": "code",
   "execution_count": 10,
   "metadata": {},
   "outputs": [
    {
     "data": {
      "image/png": "[encoded data removed]",
      "text/plain": [
       "<Figure size 432x288 with 1 Axes>"
      ]
     },
     "metadata": {
      "needs_background": "light"
     },
     "output_type": "display_data"
    },
    {
     "data": {
      "image/png": "[encoded data removed]",
      "text/plain": [
       "<Figure size 432x288 with 1 Axes>"
      ]
     },
     "metadata": {
      "needs_background": "light"
     },
     "output_type": "display_data"
    }
   ],
   "source": [
    "plt.hist(np.ravel(fakedata), bins = np.arange(0, 7000, 100))\n",
    "plt.show()\n",
    "plt.hist(fakedata[0], bins = np.arange(0, 7000, 100))\n",
    "plt.show()"
   ]
  },
  {
   "cell_type": "markdown",
   "metadata": {},
   "source": [
    "# Interpreting error estimates\n",
    "\n",
    "Frequentist statistics focuses on what will be observed, given an assumed truth.  Let's consider two possible interpretations:\n",
    "\n",
    "- 68.3% of the time we do an experiment like this, the true mean will lie between $m-\\hat{\\sigma_\\bar{x}}$ and $m+\\hat{\\sigma_\\bar{x}}$, where $m$ is the observed mean and $\\hat{\\sigma_\\bar{x}}$ is the sample standard deviation of the mean determined from the data, as $\\sigma_x \\over \\sqrt{n}$; or\n",
    "- 68.3% of the time we do an experiment like this, the true mean will lie between $m-{\\sigma_\\bar{x}}$ and $m+{\\sigma_\\bar{x}}$, where $\\sigma_\\bar{x}$ is the standard error we would calculate with perfect knowledge of the distribution, as $\\sigma \\over \\sqrt{n}$.\n",
    "\n",
    "Let's test this out with simulations of measuring the mean of 10 or 100 measurements drawn from $N(0,1)$."
   ]
  },
  {
   "cell_type": "code",
   "execution_count": 11,
   "metadata": {},
   "outputs": [],
   "source": [
    "# simulating averaging 10 measurements, 100_000 times\n",
    "nsims=int(1E5)\n",
    "ndata=10\n",
    "data=random.randn(nsims,ndata) \n",
    "\n",
    "means = np.mean(data,axis = 1)  # mean of each set of 10 measurements\n",
    "sigmas=np.std (data,axis = 1)   # standard deviation of each set of 10 measurements. \n",
    "# Note that the axis= keyword works with np.std! Do ?np.std for details.\n",
    "\n",
    "# sample standard errors determined from each random dataset\n",
    "sample_serr=sigmas/np.sqrt(ndata) \n",
    "\n",
    "# standard error calculated knowing the actual distribution\n",
    "actual_serr=1/np.sqrt(ndata)        \n",
    "\n"
   ]
  },
  {
   "cell_type": "markdown",
   "metadata": {},
   "source": [
    "__Using the below code box, plot the histograms of `means` and `sample_std` (as separate figures).  Are they both Normally distributed (Gaussian)?__\n"
   ]
  },
  {
   "cell_type": "code",
   "execution_count": 12,
   "metadata": {},
   "outputs": [
    {
     "data": {
      "image/png": "[encoded data removed]",
      "text/plain": [
       "<Figure size 432x288 with 1 Axes>"
      ]
     },
     "metadata": {
      "needs_background": "light"
     },
     "output_type": "display_data"
    },
    {
     "data": {
      "image/png": "[encoded data removed]",
      "text/plain": [
       "<Figure size 432x288 with 1 Axes>"
      ]
     },
     "metadata": {
      "needs_background": "light"
     },
     "output_type": "display_data"
    }
   ],
   "source": [
    "plt.hist(means, bins = 100)\n",
    "plt.show()\n",
    "plt.hist(sigmas, bins = 100)\n",
    "plt.show()"
   ]
  },
  {
   "cell_type": "markdown",
   "metadata": {},
   "source": [
    "__In the below code box, write code to determine:__\n",
    "\n",
    "\n",
    "- What fraction of the time when we do an experiment like this does the true mean lie between `means-sample_serr` and `means+sample_serr`?\n",
    "\n",
    "- What fraction of the times when we do an experiment like this does the true mean lie between `means-actual_serr` and `means+actual_serr`?\n",
    "\n",
    "Recall: 68.3% of the time a normally-distributed value will be within 1 sigma of the mean.  __Which matches this?__"
   ]
  },
  {
   "cell_type": "code",
   "execution_count": null,
   "metadata": {},
   "outputs": [],
   "source": []
  },
  {
   "cell_type": "code",
   "execution_count": 13,
   "metadata": {},
   "outputs": [],
   "source": [
    "# Now, do the same for simulations of averaging 100 measurements\n",
    "\n",
    "nsims=int(1E5)\n",
    "ndata=100\n",
    "data=random.randn(nsims,ndata)   \n",
    "means = np.mean(data,axis = 1)  # mean of each set of 10 measurements\n",
    "sigmas=np.std(data,axis = 1)   # standard deviation of each set of 10 measurements. \n",
    "# Note that the axis= keyword works with np.std! Do ?np.std for details.\n",
    "\n",
    "# sample standard errors determined from each random dataset\n",
    "sample_serr=sigmas/np.sqrt(ndata)\n",
    "\n",
    "# standard error calculated knowing the actual distribution\n",
    "actual_serr=1/np.sqrt(ndata)     "
   ]
  },
  {
   "cell_type": "code",
   "execution_count": 14,
   "metadata": {},
   "outputs": [
    {
     "name": "stdout",
     "output_type": "stream",
     "text": [
      "0.67956\n",
      "0.68366\n"
     ]
    }
   ],
   "source": [
    "print(len(means[np.logical_and(0 < means + sample_serr, 0 > means - sample_serr)])/len(means))\n",
    "print(len(means[np.logical_and(0 < means + actual_serr, 0 > means - actual_serr)])/len(means))"
   ]
  },
  {
   "cell_type": "code",
   "execution_count": 15,
   "metadata": {},
   "outputs": [],
   "source": [
    "# Now, do the same for simulations of averaging 100 measurements\n",
    "\n",
    "nsims=int(1E5)\n",
    "ndata=10\n",
    "data=random.randn(nsims,ndata)   \n",
    "means = np.mean(data,axis = 1)  # mean of each set of 10 measurements\n",
    "sigmas=np.std(data,axis = 1)   # standard deviation of each set of 10 measurements. \n",
    "# Note that the axis= keyword works with np.std! Do ?np.std for details.\n",
    "\n",
    "# sample standard errors determined from each random dataset\n",
    "sample_serr=sigmas/np.sqrt(ndata)\n",
    "\n",
    "# standard error calculated knowing the actual distribution\n",
    "actual_serr=1/np.sqrt(ndata)"
   ]
  },
  {
   "cell_type": "code",
   "execution_count": 16,
   "metadata": {},
   "outputs": [
    {
     "name": "stdout",
     "output_type": "stream",
     "text": [
      "0.63054\n",
      "0.68187\n"
     ]
    }
   ],
   "source": [
    "print(len(means[np.logical_and(0 < means + sample_serr, 0 > means - sample_serr)])/len(means))\n",
    "print(len(means[np.logical_and(0 < means + actual_serr, 0 > means - actual_serr)])/len(means))"
   ]
  },
  {
   "cell_type": "markdown",
   "metadata": {},
   "source": [
    "# Calculating proper confidence intervals\n",
    "\n",
    "We can use the `cdf` method of an object from the `stats.t` class to calculate how much probability we expect to lie between `means-sample_serr` and `means+sample_serr`, for the two scenarios we looked at (10 data points = 9 degrees of freedom, 100 = 99 DOF).  __Compare to the results from your Monte Carlo simulations.__"
   ]
  },
  {
   "cell_type": "code",
   "execution_count": 17,
   "metadata": {},
   "outputs": [
    {
     "name": "stdout",
     "output_type": "stream",
     "text": [
      "0.6565636038620863\n",
      "0.6802515258606983\n"
     ]
    }
   ],
   "source": [
    "print(stats.t.cdf(1.,9)-stats.t.cdf(-1.,9))\n",
    "print(stats.t.cdf(1.,99)-stats.t.cdf(-1.,99))"
   ]
  },
  {
   "cell_type": "markdown",
   "metadata": {},
   "source": [
    "We can use the `ppf` method of an object from the `stats.t` class to calculate the $t$ value such that the CDF is 0.8413 (i.e., the upper edge of a 68.3% confidence interval).  Because the t distribution is symmetric, the lower edge will just be opposite  in sign but have the same absolute value.  __Let's calculate these cutoffs and test that the resulting intervals in fact contain 68.3% of the probability:__"
   ]
  },
  {
   "cell_type": "code",
   "execution_count": 18,
   "metadata": {},
   "outputs": [
    {
     "name": "stdout",
     "output_type": "stream",
     "text": [
      "9  DOF: Cutoff value: 1.0585\n",
      "        Probability contained: 0.6826\n",
      "99 DOF: Cutoff value: 1.0049\n",
      "        Probability contained: 0.6826\n"
     ]
    }
   ],
   "source": [
    "cutoff9 = stats.t.ppf(0.8413,9)\n",
    "cutoff99 = stats.t.ppf(0.8413,99)\n",
    "\n",
    "print(f'9  DOF: Cutoff value: {cutoff9:.4f}')\n",
    "print(f'        Probability contained: {stats.t.cdf(cutoff9,9)-stats.t.cdf(-cutoff9,9):.4f}')\n",
    "print(f'99 DOF: Cutoff value: {cutoff99:.4f}')\n",
    "print(f'        Probability contained: {stats.t.cdf(cutoff99,99)-stats.t.cdf(-cutoff99,99):.4f}')"
   ]
  },
  {
   "cell_type": "markdown",
   "metadata": {},
   "source": [
    "How much difference does the difference between a $t$ distribution and a Gaussian make, as a function of the amount of data we have and which confidence interval we are looking at?  __Evaluate how close the cutoffs are to those for a Gaussian distribution, as a function of the number of degrees of freedom, for 68%, 95%, and 99% confidence intervals.__"
   ]
  },
  {
   "cell_type": "code",
   "execution_count": 19,
   "metadata": {},
   "outputs": [
    {
     "name": "stdout",
     "output_type": "stream",
     "text": [
      "68% range limits:\n",
      "DOF:  2   -1.83672, 1.836722\n",
      "DOF:  4   -1.19662, 1.196616\n",
      "DOF:  6   -1.11028, 1.110278\n",
      "DOF:  8   -1.07650, 1.076499\n",
      "DOF: 10   -1.05852, 1.058520\n",
      "DOF: 12   -1.04736, 1.047365\n",
      "DOF: 14   -1.03977, 1.039769\n",
      "DOF: 16   -1.03427, 1.034265\n",
      "DOF: 18   -1.03009, 1.030093\n",
      "\n",
      "95% range:\n",
      "DOF:  2   -12.70620, 12.706205\n",
      "DOF:  4   -3.18245, 3.182446\n",
      "DOF:  6   -2.57058, 2.570582\n",
      "DOF:  8   -2.36462, 2.364624\n",
      "DOF: 10   -2.26216, 2.262157\n",
      "DOF: 12   -2.20099, 2.200985\n",
      "DOF: 14   -2.16037, 2.160369\n",
      "DOF: 16   -2.13145, 2.131450\n",
      "DOF: 18   -2.10982, 2.109816\n",
      "\n",
      "99% range:\n",
      "DOF:  2   -63.65674, 63.656741\n",
      "DOF:  4   -5.84091, 5.840909\n",
      "DOF:  6   -4.03214, 4.032143\n",
      "DOF:  8   -3.49948, 3.499483\n",
      "DOF: 10   -3.24984, 3.249836\n",
      "DOF: 12   -3.10581, 3.105807\n",
      "DOF: 14   -3.01228, 3.012276\n",
      "DOF: 16   -2.94671, 2.946713\n",
      "DOF: 18   -2.89823, 2.898231\n",
      "\n",
      " large N limits (=cutoffs for a Gaussian distribution):\n",
      "68%: 0.99987\n",
      "95%: 1.96020\n",
      "99%: 2.57632\n"
     ]
    }
   ],
   "source": [
    "print('68% range limits:')\n",
    "\n",
    "for i in np.arange(2,20,2): \n",
    "    print(f'DOF: {i:2d}   {stats.t.ppf(0.1587,i-1):.5f}, {stats.t.ppf(0.8413,i-1):5f}')\n",
    "    \n",
    "print('\\n95% range:')\n",
    "\n",
    "for i in np.arange(2,20,2): \n",
    "    print(f'DOF: {i:2d}   {stats.t.ppf(0.025,i-1):.5f}, {stats.t.ppf(0.975,i-1):5f}')\n",
    "    \n",
    "    \n",
    "print('\\n99% range:')\n",
    "    \n",
    "for i in np.arange(2,20,2): \n",
    "    print(f'DOF: {i:2d}   {stats.t.ppf(0.005,i-1):.5f}, {stats.t.ppf(0.995,i-1):5f}')\n",
    "          \n",
    "print('\\n large N limits (=cutoffs for a Gaussian distribution):' )\n",
    "print(f'68%: {stats.t.ppf(1-0.1587,1E4):.5f}')\n",
    "print(f'95%: {stats.t.ppf(1-0.025,1E4):.5f}')\n",
    "print(f'99%: {stats.t.ppf(1-0.005,1E4):.5f}')"
   ]
  },
  {
   "cell_type": "code",
   "execution_count": null,
   "metadata": {},
   "outputs": [],
   "source": []
  },
  {
   "cell_type": "markdown",
   "metadata": {},
   "source": [
    "# If you have extra time\n",
    "\n",
    "- Explore the effect that the number of samples has on the accuracy of `hlmean`.  If you use ndata, 10$\\times$ndata, 25$\\times$ndata, or 100$\\times$ndata samples, how much does the estimate coming from `hlmean` vary when you rerun it?  You can use e.g. 100 or 1000 values from N(0,1) in testing.\n",
    "\n",
    "- Apply each of the estimators of location (applied above) on a situation where 10% of values are drawn from N(2,1) instead of N(0,1) (using an foutlier parameter as in the clusters example).  Which estimators appear to be most robust?\n",
    "\n"
   ]
  },
  {
   "cell_type": "code",
   "execution_count": null,
   "metadata": {},
   "outputs": [],
   "source": []
  },
  {
   "cell_type": "code",
   "execution_count": null,
   "metadata": {},
   "outputs": [],
   "source": []
  },
  {
   "cell_type": "code",
   "execution_count": null,
   "metadata": {},
   "outputs": [],
   "source": []
  }
 ],
 "metadata": {
  "anaconda-cloud": {},
  "kernelspec": {
   "display_name": "Python 3",
   "language": "python",
   "name": "python3"
  },
  "language_info": {
   "codemirror_mode": {
    "name": "ipython",
    "version": 3
   },
   "file_extension": ".py",
   "mimetype": "text/x-python",
   "name": "python",
   "nbconvert_exporter": "python",
   "pygments_lexer": "ipython3",
   "version": "3.7.4"
  }
 },
 "nbformat": 4,
 "nbformat_minor": 4
}
