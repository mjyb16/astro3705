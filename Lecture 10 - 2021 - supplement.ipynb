{
 "cells": [
  {
   "cell_type": "code",
   "execution_count": 1,
   "metadata": {},
   "outputs": [
    {
     "name": "stdout",
     "output_type": "stream",
     "text": [
      "Populating the interactive namespace from numpy and matplotlib\n"
     ]
    }
   ],
   "source": [
    "%pylab inline\n",
    "import scipy.stats as stats\n",
    "import astropy.stats as astats\n",
    "import numpy.random as random"
   ]
  },
  {
   "cell_type": "markdown",
   "metadata": {},
   "source": [
    "## Trying different statistics for scale\n",
    "\n",
    "Now, let's generate $10^5$ values from a standard normal distribution, and compare various statistics for the scale (e.g., standard deviation) of the sample.  __What value do you expect here?  Which statistics come closest? Compare results with your group!__"
   ]
  },
  {
   "cell_type": "code",
   "execution_count": 2,
   "metadata": {},
   "outputs": [],
   "source": [
    "ndata=int(5E5)\n",
    "data=random.randn(ndata)\n"
   ]
  },
  {
   "cell_type": "code",
   "execution_count": 5,
   "metadata": {},
   "outputs": [
    {
     "name": "stdout",
     "output_type": "stream",
     "text": [
      "Standard deviation: 1.0002\n",
      "Normalized Mean Absolute Deviation: 0.99976\n",
      "Normalized Median Absolute Deviation: 0.99903\n",
      "Normalized IQR: 0.99903\n",
      "\n",
      "10% Trimmed Standard Deviation: 0.6613\n",
      "Norm. 10% Trimmed Standard Deviation: 0.9986\n",
      "\n",
      "Winsorized standard deviation: 0.8235\n",
      "Norm. Winsorized standard deviation: 0.9965\n",
      "\n",
      "Sigma-clipped standard deviation: 0.9847\n",
      "Norm. Sigma-clipped standard deviation: 0.9994\n",
      "\n",
      "Biweight standard deviation: 1.0092\n",
      "Norm. Biweight standard deviation: 0.9991\n"
     ]
    }
   ],
   "source": [
    "# note the need for correction factors to get estimates\n",
    "# of the Gaussian sigma!\n",
    "\n",
    "# the standard...\n",
    "print(f'Standard deviation: {data.std():.4f}')\n",
    "\n",
    "# average absolute deviation\n",
    "normavgabsdev = np.mean(np.abs(data-data.mean()))/0.7979\n",
    "print(f'Normalized Mean Absolute Deviation: {normavgabsdev:.5f}')\n",
    "\n",
    "# median absolute deviation\n",
    "# we coded this by hand before, but it's also available in scipy.stats\n",
    "# including option to scale to sigma equivalent\n",
    "normmad = stats.median_absolute_deviation(data)#scale='normal' by default\n",
    "print(f'Normalized Median Absolute Deviation: {normmad:.5f}')\n",
    "\n",
    "# IQR\n",
    "# we did this with np.percentile before, \n",
    "# but it's also available in scipy.stats\n",
    "# including option to scale to sigma equivalent\n",
    "normiqr = stats.iqr(data,scale='normal')\n",
    "print(f'Normalized IQR: {normiqr:.5f}')\n",
    "\n",
    "print()\n",
    "\n",
    "# 10% Trimmed standard deviation\n",
    "# Note: here and below, the scale factors for normalization were determined\n",
    "# just by calculating statistics for samples with very large N\n",
    "limits=np.percentile(data,(10,90))\n",
    "print(f'10% Trimmed Standard Deviation: {stats.tstd(data,limits=limits):.4f}')\n",
    "print(f'Norm. 10% Trimmed Standard Deviation: {stats.tstd(data,limits=limits)*1.51:.4f}')\n",
    "print()\n",
    "\n",
    "\n",
    "# 10% winsorized standard deviation\n",
    "winsor_data = stats.mstats.winsorize(data,limits=(.1,.1))\n",
    "print(f'Winsorized standard deviation: {np.std(winsor_data):.4f}')\n",
    "print(f'Norm. Winsorized standard deviation: {np.std(winsor_data)*1.21:.4f}')\n",
    "print()\n",
    "\n",
    "# note that the scale factor needed is smaller if we winsorize rather than trim\n",
    "\n",
    "\n",
    "# 3-sigma-clipped standard deviation\n",
    "clipped_data,low_threshold,high_threshold = stats.sigmaclip(data,low=3.,high=3.)\n",
    "\n",
    "print(f'Sigma-clipped standard deviation: {np.std(clipped_data):.4f}')\n",
    "print(f'Norm. Sigma-clipped standard deviation: {np.std(clipped_data)*1.015:.4f}')\n",
    "print()\n",
    "\n",
    "\n",
    "\n",
    "# biweight standard deviation\n",
    "print(f'Biweight standard deviation: {np.sqrt(astats.biweight_midvariance(data)):.4f}')\n",
    "print(f'Norm. Biweight standard deviation: {np.sqrt(astats.biweight_midvariance(data))*0.99:.4f}')\n",
    "\n",
    "\n"
   ]
  },
  {
   "cell_type": "code",
   "execution_count": null,
   "metadata": {},
   "outputs": [],
   "source": []
  },
  {
   "cell_type": "code",
   "execution_count": null,
   "metadata": {},
   "outputs": [],
   "source": []
  }
 ],
 "metadata": {
  "anaconda-cloud": {},
  "kernelspec": {
   "display_name": "Python 3",
   "language": "python",
   "name": "python3"
  },
  "language_info": {
   "codemirror_mode": {
    "name": "ipython",
    "version": 3
   },
   "file_extension": ".py",
   "mimetype": "text/x-python",
   "name": "python",
   "nbconvert_exporter": "python",
   "pygments_lexer": "ipython3",
   "version": "3.7.4"
  }
 },
 "nbformat": 4,
 "nbformat_minor": 4
}
