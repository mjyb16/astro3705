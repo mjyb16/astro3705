{
 "cells": [
  {
   "cell_type": "markdown",
   "metadata": {},
   "source": [
    "We pretty much always want to start notebooks with this line:"
   ]
  },
  {
   "cell_type": "code",
   "execution_count": null,
   "metadata": {
    "scrolled": true
   },
   "outputs": [],
   "source": [
    "%pylab inline"
   ]
  },
  {
   "cell_type": "markdown",
   "metadata": {},
   "source": [
    "# Below is a code box you can do calculations in\n",
    "\n",
    "(for the group discussion problems during lecture)"
   ]
  },
  {
   "cell_type": "code",
   "execution_count": null,
   "metadata": {
    "scrolled": true
   },
   "outputs": [],
   "source": []
  },
  {
   "cell_type": "markdown",
   "metadata": {},
   "source": [
    "## Investigating probability distributions\n",
    "\n",
    "Let's simulate rolling 100 dice and counting the total number of ones from each trial.  __Fix the code below, consulting with your group as to what should replace the ????'s.__  A blank code box is below in case you want to bring up help on `random.rand`, `np.sum` (look for the `axis` keyword...), etc."
   ]
  },
  {
   "cell_type": "code",
   "execution_count": null,
   "metadata": {
    "scrolled": true
   },
   "outputs": [],
   "source": [
    "import numpy.random as random\n",
    "import numpy as np\n",
    "nsims=int(1E5)\n",
    "prob=1/6.\n",
    "is_one=(random.rand(????,100) < prob)\n",
    "ndice=100\n",
    "# plot a histogram of the total # of 1's from each sim\n",
    "plt.hist(np.sum(is_one[:,0:ndice],????))\n"
   ]
  },
  {
   "cell_type": "code",
   "execution_count": null,
   "metadata": {
    "scrolled": true
   },
   "outputs": [],
   "source": []
  },
  {
   "cell_type": "markdown",
   "metadata": {},
   "source": [
    "### Implementing this as a function\n",
    "\n",
    "We want to perform this calculation for different numbers of dice and look at the distribution of results.  This is done in the file `dice.py`, which you should download from Canvas into your python program path (i.e. where you put modules).  New things we're using in this code:\n",
    "\n",
    "        plt.figure(i) \n",
    "This will create a new, separate figure for each plot.  \n",
    "\n",
    "        plt.title(str(ndice) + ' dice')\n",
    "`str(ndice)` converts `ndice` to a string.  `plt.title` gives a title to the plot.\n",
    "\n",
    "__Import the new module (with `import dice`) and run the `rolldice` function from the module in the below code box.__  Try 50_000 simulations to start with."
   ]
  },
  {
   "cell_type": "code",
   "execution_count": null,
   "metadata": {
    "scrolled": false
   },
   "outputs": [],
   "source": []
  },
  {
   "cell_type": "markdown",
   "metadata": {},
   "source": [
    "## Checking the binomial distribution\n",
    "\n",
    "__Add the following code (or your own equivalent code) to the rolldice procedure.__  You should be able to copy and paste to do this (be sure to save the file afterward).  Note that this code belongs _inside_ the for loop, as we want to test things for each possible number of dice.\n",
    "\n",
    "Checking if $\\mu = N \\times p$ with `np.mean()` or `np.sum()`\n",
    "\n",
    "    print(f'ndice: {ndice}')\n",
    "    print(f'np.mean: {np.mean(np.sum(is_one[:,0:ndice],axis=1))}')\n",
    "    print(f'np.sum: {np.sum(np.sum(is_one[:,0:ndice],axis=1))/nsims:.4f}')\n",
    "    print(f'Expected mean: {ndice*prob:.4f} ')\n",
    "\n",
    "Checking if the variance $\\sigma^2 = N \\times p \\times (1-p)$ with `np.std` or `np.var`:\n",
    "\n",
    "    print(f'np.std**2:{np.std( np.sum(is_one[:, 0:ndice],axis=1) )**2:.4f}')\n",
    "    print(f'np.var: {np.var( np.sum(is_one[:, 0:ndice],axis=1) ) :.4f}')\n",
    "    print(f'Expected variance: {ndice*prob*(1-prob):.4f}')\n",
    "    \n",
    "Also print a blank line to make results clearer:\n",
    "\n",
    "    print('')\n",
    "\n",
    "    \n",
    "In the above,\n",
    "\n",
    "    print(f'ndice: {ndice}')\n",
    "is using the f-string formatting in Python. We can specify whether to format as integers or floating point numbers, how many decimal points to add, etc. by putting a colon inside the brackets; e.g. `{ndice:.4f}` would specify that ndice will be printed as a floating point number with 4 digits after the decimal point.  See https://cis.bentley.edu/sandbox/wp-content/uploads/Documentation-on-f-strings.pdf for documentation of the different possible formatting. \n",
    "\n",
    "__After making your changes, reload the module and run `rolldice` in the code box below.__\n",
    "\n",
    "Note that to import the reload function you will need to do:\n",
    "\n",
    "    from imp import reload\n",
    "    reload(dice)"
   ]
  },
  {
   "cell_type": "code",
   "execution_count": null,
   "metadata": {
    "scrolled": true
   },
   "outputs": [],
   "source": []
  },
  {
   "cell_type": "markdown",
   "metadata": {},
   "source": [
    "## Plotting the binomial distribution\n",
    "\n",
    "To calculate the binomial distribution, we need to use combinatorics.  Scipy provides functions to calculate either factorials (`scipy.misc.factorial()`) or the number of combinations (N choose M), `scipy.misc.comb()` . \n",
    "\n",
    "At the top of the module, let's add imports for them:\n",
    "\n",
    "\tfrom scipy.special import factorial,comb\n",
    "Then, after: \n",
    "\n",
    "     plt.hist( np.sum(n_ones[:,0:ndice],axis=1), range=(-0.5,ndice+0.5),bins=(ndice + 1) )\n",
    "Add:\n",
    "\n",
    "    x=np.arange(ndice)\n",
    "and either:    \n",
    "\n",
    "    plt.plot(x,nsims*factorial(ndice)/factorial(x)/   \\\n",
    "    factorial(ndice-x)*prob**x*(1-prob)**(ndice-x),'r-')\n",
    "where the \\ indicates that the python command continues onto the next line, or:\n",
    "\n",
    "    plt.plot(x,nsims*comb(ndice,x)*prob**x*(1-prob)**(ndice-x),'ro')\n",
    "    \n",
    "__Then reload the module and plot again using the code box below.  Does what you get match expectations?__    \n"
   ]
  },
  {
   "cell_type": "code",
   "execution_count": null,
   "metadata": {
    "scrolled": true
   },
   "outputs": [],
   "source": []
  },
  {
   "cell_type": "markdown",
   "metadata": {},
   "source": [
    "## Using the scipy-provided binomial function\n",
    "\n",
    "`scipy.stats.binom.pmf(x,n,prob)` provides the probability of getting x occurrences out of n trials if the probability of an occurrence is `prob` (note that x can be an array!).  `pmf` here stands for \"probability mass function\".\n",
    "\n",
    "Alternatively, you can set up an *object* that is a member of the binomial class and inherits all of its functions (\"methods\"), utilizing fixed values for `n` and `prob`, with e.g.\n",
    "\n",
    "\t\t\t\ta = stats.binom(n,prob)\n",
    "and then get the PMF (the discrete equivalent of a PDF) via\n",
    "\n",
    " \t\t\t\ta.pmf(x)\n",
    "\n",
    "__In the below code box, import scipy.stats and read the documentation for binom__.\n",
    "\n",
    "__Then, modify rolldice to add a curve to your plots showing the expected number of ones out of the simulation for each value of x, using `stats.binom` to calculate.__ Note that this will be `nsims` times the probability for one realization of the process (which is what the PMF gives you)...\n"
   ]
  },
  {
   "cell_type": "code",
   "execution_count": null,
   "metadata": {
    "scrolled": true
   },
   "outputs": [],
   "source": []
  },
  {
   "cell_type": "markdown",
   "metadata": {},
   "source": [
    "# If you have extra time...\n",
    "\n",
    "Some things you can do if you get ahead of the class:\n",
    "\n",
    "- Try changing string formats to improve the outputs; try to change the font size in your figures to make them look better; etc.  Share plotting optimizations you tend to use with your neighbors!\n",
    "\n",
    "- modify `rolldice` so that it can take the number of sides a die has as a keyword input (e.g. 4, 6, 8, 10, 12, 20 and even 100-sided dice exist).  Use 6 sides as a default (see https://www.ibiblio.org/g2swap/byteofpython/read/keyword-arguments.html for how to do this).  As the number of sides increases, the probability of rolling a one goes down.  \n",
    " - Does the distribution look more or less Gaussian as the probability changes?\n",
    " - Compare the distribution of results for rolling 10 20-sided dice to the distribution for rolling 50 100-sided dice.\n",
    "        "
   ]
  },
  {
   "cell_type": "code",
   "execution_count": null,
   "metadata": {},
   "outputs": [],
   "source": [
    "\n"
   ]
  },
  {
   "cell_type": "code",
   "execution_count": null,
   "metadata": {},
   "outputs": [],
   "source": []
  }
 ],
 "metadata": {
  "anaconda-cloud": {},
  "kernelspec": {
   "display_name": "Python 3",
   "language": "python",
   "name": "python3"
  },
  "language_info": {
   "codemirror_mode": {
    "name": "ipython",
    "version": 3
   },
   "file_extension": ".py",
   "mimetype": "text/x-python",
   "name": "python",
   "nbconvert_exporter": "python",
   "pygments_lexer": "ipython3",
   "version": "3.8.5"
  }
 },
 "nbformat": 4,
 "nbformat_minor": 1
}
