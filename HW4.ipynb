{
 "cells": [
  {
   "cell_type": "code",
   "execution_count": 3,
   "metadata": {},
   "outputs": [
    {
     "name": "stdout",
     "output_type": "stream",
     "text": [
      "Populating the interactive namespace from numpy and matplotlib\n"
     ]
    }
   ],
   "source": [
    "%pylab inline\n",
    "import pandas as pd\n",
    "import scipy.stats as stats\n",
    "import numpy.random as random"
   ]
  },
  {
   "cell_type": "code",
   "execution_count": 14,
   "metadata": {},
   "outputs": [],
   "source": [
    "height_df = pd.read_csv(\"heights.csv\", names = [\"heights\"])"
   ]
  },
  {
   "cell_type": "code",
   "execution_count": 16,
   "metadata": {},
   "outputs": [],
   "source": [
    "heights = height_df.values"
   ]
  },
  {
   "cell_type": "markdown",
   "metadata": {},
   "source": [
    "# Part A"
   ]
  },
  {
   "cell_type": "code",
   "execution_count": 68,
   "metadata": {},
   "outputs": [
    {
     "name": "stdout",
     "output_type": "stream",
     "text": [
      "Mean of sample:  1.7173384615384617\n",
      "T-distribution 68% Confidence Interval:  1.6890627695344844 1.745614153542439\n",
      "T-distribution 95% Confidence Interval:  1.6579523750286176 1.7767245480483058\n",
      "T-distribution 99% Confidence Interval:  1.634083420182413 1.8005935028945104\n"
     ]
    }
   ],
   "source": [
    "ndata = len(height_df)\n",
    "mean = np.mean(heights)\n",
    "sigma = np.std(heights)\n",
    "print(\"Mean of sample: \", mean)\n",
    "\n",
    "tfactor = stats.t.ppf(1-0.16,ndata-1)\n",
    "print('T-distribution 68% Confidence Interval: ', mean-tfactor*sigma/np.sqrt(ndata), mean+tfactor*sigma/np.sqrt(ndata) )\n",
    "tfactor = stats.t.ppf(1-0.025,len(heights)-1)\n",
    "print('T-distribution 95% Confidence Interval: ', mean-tfactor*sigma/np.sqrt(ndata), mean+tfactor*sigma/np.sqrt(ndata) )\n",
    "tfactor = stats.t.ppf(1-0.005,len(heights)-1)\n",
    "print('T-distribution 99% Confidence Interval: ', mean-tfactor*sigma/np.sqrt(ndata), mean+tfactor*sigma/np.sqrt(ndata) )"
   ]
  },
  {
   "cell_type": "markdown",
   "metadata": {},
   "source": [
    "## Interpretation of confidence intervals\n",
    "\n",
    "We are 68% confident that the true mean height of Americans lies between 1.69 and 1.75 meters.\n",
    "\n",
    "We are 95% confident that the true mean height of Americans lies between 1.66 and 1.78 meters.\n",
    "\n",
    "We are 99% confident that the true mean height of Americans lies between 1.63 and 1.80 meters."
   ]
  },
  {
   "cell_type": "markdown",
   "metadata": {},
   "source": [
    "# Part B"
   ]
  },
  {
   "cell_type": "code",
   "execution_count": 59,
   "metadata": {},
   "outputs": [],
   "source": [
    "#Generating Bootstrap data\n",
    "nbootstraps=int(1E4)\n",
    "heights_boot = np.random.choice(height_df.heights, (nbootstraps,ndata))"
   ]
  },
  {
   "cell_type": "code",
   "execution_count": 66,
   "metadata": {},
   "outputs": [
    {
     "data": {
      "image/png": "[encoded data removed]",
      "text/plain": [
       "<Figure size 432x288 with 1 Axes>"
      ]
     },
     "metadata": {
      "needs_background": "light"
     },
     "output_type": "display_data"
    }
   ],
   "source": [
    "#Looking at bootstrap distribution of mean\n",
    "means = np.mean(heights_boot, axis = 1)\n",
    "plt.hist(means, bins = np.linspace(1.55, 1.9, 100))\n",
    "plt.title(\"Distribution of means of bootstrap\")\n",
    "plt.show()"
   ]
  },
  {
   "cell_type": "code",
   "execution_count": 65,
   "metadata": {},
   "outputs": [
    {
     "name": "stdout",
     "output_type": "stream",
     "text": [
      "Bootstrap 68% Confidence Interval:  [1.69023077 1.74472308]\n",
      "Bootstrap 95% Confidence Interval:  [1.66341538 1.77076923]\n",
      "Bootstrap 99% Confidence Interval:  [1.64479615 1.78741538]\n"
     ]
    }
   ],
   "source": [
    "print('Bootstrap 68% Confidence Interval: ', np.percentile(means, [16, 84]) )\n",
    "print('Bootstrap 95% Confidence Interval: ', np.percentile(means, [2.5, 97.5]) )\n",
    "print('Bootstrap 99% Confidence Interval: ', np.percentile(means, [0.5, 99.5]) )"
   ]
  },
  {
   "cell_type": "markdown",
   "metadata": {},
   "source": [
    "The bootstrap intervals are centered on similar values to the T intervals, but the bootstrap intervals are smaller than the T intervals, particularly for the 99% interval, where the difference in interval size is approximately 0.02 meters (2 cm). Thus, in this case, bootstrap is more constraining than the T distribution."
   ]
  },
  {
   "cell_type": "code",
   "execution_count": null,
   "metadata": {},
   "outputs": [],
   "source": []
  },
  {
   "cell_type": "markdown",
   "metadata": {},
   "source": [
    "# Part C"
   ]
  },
  {
   "cell_type": "markdown",
   "metadata": {},
   "source": [
    "The true mean height of Americans (1.7 m) is contained in all of our confidence intervals, even the 68% bootstrap, which is our narrowest CI. Thus, to first order, our class is a representative sample of the US population when it comes to height. However, our confidence intervals are centered slightly higher (~1.72 m) than the true mean height, which indicates that our class is about 2 cm taller than the US average."
   ]
  },
  {
   "cell_type": "code",
   "execution_count": null,
   "metadata": {},
   "outputs": [],
   "source": []
  }
 ],
 "metadata": {
  "kernelspec": {
   "display_name": "Python 3",
   "language": "python",
   "name": "python3"
  },
  "language_info": {
   "codemirror_mode": {
    "name": "ipython",
    "version": 3
   },
   "file_extension": ".py",
   "mimetype": "text/x-python",
   "name": "python",
   "nbconvert_exporter": "python",
   "pygments_lexer": "ipython3",
   "version": "3.7.4"
  }
 },
 "nbformat": 4,
 "nbformat_minor": 4
}
