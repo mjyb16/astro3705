{
 "cells": [
  {
   "cell_type": "code",
   "execution_count": 1,
   "metadata": {},
   "outputs": [
    {
     "name": "stdout",
     "output_type": "stream",
     "text": [
      "Populating the interactive namespace from numpy and matplotlib\n"
     ]
    }
   ],
   "source": [
    "%pylab inline\n",
    "import scipy.stats as stats\n",
    "import astropy.stats as astats\n",
    "import numpy.random as random\n"
   ]
  },
  {
   "cell_type": "markdown",
   "metadata": {},
   "source": [
    "# Exploring measurements of the Hubble parameter\n",
    "\n"
   ]
  },
  {
   "cell_type": "code",
   "execution_count": 2,
   "metadata": {},
   "outputs": [],
   "source": [
    "from astropy.table import Table\n",
    "import pandas"
   ]
  },
  {
   "cell_type": "markdown",
   "metadata": {},
   "source": [
    "# Reading in an ASCII file\n",
    "\n",
    "See https://pandas.pydata.org/pandas-docs/stable/reference/io.html for `pandas` format options (or http://docs.astropy.org/en/stable/io/unified.html#table-io for `Table.read()` format options). If you have a file that only reads in via astropy, you can convert to a `pandas` DataFrame via the `.to_pandas()` method of an astropy recarray.\n",
    "\n",
    "\n",
    "__1) using the below code box (or a text file viewer) look at the contents of the file hubble_trim.dat__"
   ]
  },
  {
   "cell_type": "code",
   "execution_count": 8,
   "metadata": {},
   "outputs": [
    {
     "name": "stdout",
     "output_type": "stream",
     "text": [
      " h0| ep | em | date   |me | source                                                        |\n",
      " 50   +2   -2  1996.00  AS  Tammann, G. \\& Sandage, A. 1996in IAU Symp 168, {\\it Examining the Black Body and Diffuse Background Raduation}, M. Kafatos, ed. (Dordrecht: Kluwer) p163.\n",
      " 77  +22   -2  1996.02  AV  VandenBergh, S. 1996, in IAU Symp 168, {\\it Examining the Black Body and Diffuse Background Raduation}, M. Kafatos, ed. (Dordrecht: Kluwer) p157. Wierd limits\n",
      " 56   +5   -5  1996.05  OS  Sandage, A. 1996, AJ 111, 1.  Spiral Luminosity Functions\n",
      " 55   +5   -5  1996.07  OS  Sandage, A. 1996, AJ 111, 18. M31+M101 look alikes.\n",
      " 55  +10  -10  1996.10  AS  Tammann, G., Labhardt, L., Federspiel, M.\n",
      " 84   +4   -4  1996.143 PK  Ford, H. \\etal 1996, ApJ 458, 455\n",
      " 76   +8   -8  1996.15  O   Zasov 1996, AstronLett 22, 71  Theory, Disk Stability\n",
      " 67   +9   -9  1996.17  S   Hoeflich, P. \\& Khokhlov, A. 1996, ApJ 457, 500. SN Theory\n",
      " 57   +4   -4  1996.220 SS  Sandage, A. \\etal 1996, ApJL 460, L15. N4639 + six  Ia's\n",
      " 65   +8   -8  1996.25  S   Hendry \\& Kanbur 1996, in Mapping, Measuring and Modeling the Universe, Coles \\etal eds, ASP \\#94, p357.\n",
      " 55   +3   -3  1996.26  S   Schaefer, B. 1996, ApJL 460, L19. SN 1960F\n",
      " 57   +4   -4  1996.333 S   Schaefer, B. 1996, AJ 111, 1668 SN1937C\n",
      "--More-- (2% of 55822 bytes)\n"
     ]
    }
   ],
   "source": [
    "!more hubble_trim.dat"
   ]
  },
  {
   "cell_type": "markdown",
   "metadata": {},
   "source": [
    "Now, we read in the file into a table named `data`:"
   ]
  },
  {
   "cell_type": "code",
   "execution_count": 9,
   "metadata": {},
   "outputs": [],
   "source": [
    "# to read in with astropy.table:\n",
    "data_table=Table.read('hubble_trim.dat',format='ascii.fixed_width')\n",
    "\n",
    "# to read in with pandas:\n",
    "data=pandas.read_fwf('hubble_trim.dat',widths=[4,5,5,9,3,80],comment='#',\n",
    "                     names=['h0','ep','em','date','method','source'],skiprows=1)"
   ]
  },
  {
   "cell_type": "markdown",
   "metadata": {},
   "source": [
    "Using the below code box, check what's in each version of the table:\n",
    "\n",
    "__1) print out the list of column names:__ This is an attribute of the `data` object: i.e., `data.columns`, not `data.columns()`).  For an astropy `Table` or `recarray` this is `data_table.colnames`\n",
    "\n",
    "__2) print out the first record in the table:__ In `pandas` this is `data.iloc[0,:]`; for an astropy `Table` or `recarray` it is `data_table[0]` .  `.iloc` indicates integer-based location specification -- the first coordinate slices on rows, the second slices on columns (e.g. the h0 value is column 0).  \n",
    "\n",
    "__3) print data itself: both `pandas` and the astropy `Table` class provide 'pretty' print output.__\n",
    "\n",
    "__4) Check out the attributes and methods associated with `data` and `data_table`: e.g., type `data.` and hit the Tab key to see a list.__"
   ]
  },
  {
   "cell_type": "code",
   "execution_count": 10,
   "metadata": {},
   "outputs": [
    {
     "data": {
      "text/plain": [
       "Index(['h0', 'ep', 'em', 'date', 'method', 'source'], dtype='object')"
      ]
     },
     "execution_count": 10,
     "metadata": {},
     "output_type": "execute_result"
    }
   ],
   "source": [
    "data.columns"
   ]
  },
  {
   "cell_type": "code",
   "execution_count": 11,
   "metadata": {},
   "outputs": [
    {
     "data": {
      "text/plain": [
       "['h0', 'ep', 'em', 'date', 'me', 'source']"
      ]
     },
     "execution_count": 11,
     "metadata": {},
     "output_type": "execute_result"
    }
   ],
   "source": [
    "data_table.colnames"
   ]
  },
  {
   "cell_type": "code",
   "execution_count": 12,
   "metadata": {},
   "outputs": [
    {
     "data": {
      "text/plain": [
       "h0                                                       50\n",
       "ep                                                        2\n",
       "em                                                       -2\n",
       "date                                                   1996\n",
       "method                                                   AS\n",
       "source    Tammann, G. \\& Sandage, A. 1996in IAU Symp 168...\n",
       "Name: 0, dtype: object"
      ]
     },
     "execution_count": 12,
     "metadata": {},
     "output_type": "execute_result"
    }
   ],
   "source": [
    "data.iloc[0]"
   ]
  },
  {
   "cell_type": "markdown",
   "metadata": {},
   "source": [
    "Let's store the columns as separate arrays for convenience:"
   ]
  },
  {
   "cell_type": "code",
   "execution_count": 19,
   "metadata": {},
   "outputs": [
    {
     "data": {
      "text/html": [
       "<div>\n",
       "<style scoped>\n",
       "    .dataframe tbody tr th:only-of-type {\n",
       "        vertical-align: middle;\n",
       "    }\n",
       "\n",
       "    .dataframe tbody tr th {\n",
       "        vertical-align: top;\n",
       "    }\n",
       "\n",
       "    .dataframe thead th {\n",
       "        text-align: right;\n",
       "    }\n",
       "</style>\n",
       "<table border=\"1\" class=\"dataframe\">\n",
       "  <thead>\n",
       "    <tr style=\"text-align: right;\">\n",
       "      <th></th>\n",
       "      <th>h0</th>\n",
       "      <th>ep</th>\n",
       "      <th>em</th>\n",
       "      <th>date</th>\n",
       "      <th>method</th>\n",
       "      <th>source</th>\n",
       "    </tr>\n",
       "  </thead>\n",
       "  <tbody>\n",
       "    <tr>\n",
       "      <td>0</td>\n",
       "      <td>50.0</td>\n",
       "      <td>2.0</td>\n",
       "      <td>-2.0</td>\n",
       "      <td>1996.00</td>\n",
       "      <td>AS</td>\n",
       "      <td>Tammann, G. \\&amp; Sandage, A. 1996in IAU Symp 168...</td>\n",
       "    </tr>\n",
       "    <tr>\n",
       "      <td>1</td>\n",
       "      <td>77.0</td>\n",
       "      <td>22.0</td>\n",
       "      <td>-2.0</td>\n",
       "      <td>1996.02</td>\n",
       "      <td>AV</td>\n",
       "      <td>VandenBergh, S. 1996, in IAU Symp 168, {\\it Ex...</td>\n",
       "    </tr>\n",
       "    <tr>\n",
       "      <td>2</td>\n",
       "      <td>56.0</td>\n",
       "      <td>5.0</td>\n",
       "      <td>-5.0</td>\n",
       "      <td>1996.05</td>\n",
       "      <td>OS</td>\n",
       "      <td>Sandage, A. 1996, AJ 111, 1.  Spiral Luminosit...</td>\n",
       "    </tr>\n",
       "    <tr>\n",
       "      <td>3</td>\n",
       "      <td>55.0</td>\n",
       "      <td>5.0</td>\n",
       "      <td>-5.0</td>\n",
       "      <td>1996.07</td>\n",
       "      <td>OS</td>\n",
       "      <td>Sandage, A. 1996, AJ 111, 18. M31+M101 look al...</td>\n",
       "    </tr>\n",
       "    <tr>\n",
       "      <td>4</td>\n",
       "      <td>55.0</td>\n",
       "      <td>10.0</td>\n",
       "      <td>-10.0</td>\n",
       "      <td>1996.10</td>\n",
       "      <td>AS</td>\n",
       "      <td>Tammann, G., Labhardt, L., Federspiel, M.</td>\n",
       "    </tr>\n",
       "  </tbody>\n",
       "</table>\n",
       "</div>"
      ],
      "text/plain": [
       "     h0    ep    em     date method  \\\n",
       "0  50.0   2.0  -2.0  1996.00     AS   \n",
       "1  77.0  22.0  -2.0  1996.02     AV   \n",
       "2  56.0   5.0  -5.0  1996.05     OS   \n",
       "3  55.0   5.0  -5.0  1996.07     OS   \n",
       "4  55.0  10.0 -10.0  1996.10     AS   \n",
       "\n",
       "                                              source  \n",
       "0  Tammann, G. \\& Sandage, A. 1996in IAU Symp 168...  \n",
       "1  VandenBergh, S. 1996, in IAU Symp 168, {\\it Ex...  \n",
       "2  Sandage, A. 1996, AJ 111, 1.  Spiral Luminosit...  \n",
       "3  Sandage, A. 1996, AJ 111, 18. M31+M101 look al...  \n",
       "4          Tammann, G., Labhardt, L., Federspiel, M.  "
      ]
     },
     "execution_count": 19,
     "metadata": {},
     "output_type": "execute_result"
    }
   ],
   "source": [
    "data.head()"
   ]
  },
  {
   "cell_type": "code",
   "execution_count": 20,
   "metadata": {},
   "outputs": [
    {
     "data": {
      "text/html": [
       "<div>\n",
       "<style scoped>\n",
       "    .dataframe tbody tr th:only-of-type {\n",
       "        vertical-align: middle;\n",
       "    }\n",
       "\n",
       "    .dataframe tbody tr th {\n",
       "        vertical-align: top;\n",
       "    }\n",
       "\n",
       "    .dataframe thead th {\n",
       "        text-align: right;\n",
       "    }\n",
       "</style>\n",
       "<table border=\"1\" class=\"dataframe\">\n",
       "  <thead>\n",
       "    <tr style=\"text-align: right;\">\n",
       "      <th></th>\n",
       "      <th>h0</th>\n",
       "      <th>ep</th>\n",
       "      <th>em</th>\n",
       "      <th>date</th>\n",
       "      <th>method</th>\n",
       "      <th>source</th>\n",
       "    </tr>\n",
       "  </thead>\n",
       "  <tbody>\n",
       "    <tr>\n",
       "      <td>0</td>\n",
       "      <td>50.0</td>\n",
       "      <td>2.0</td>\n",
       "      <td>-2.0</td>\n",
       "      <td>1996.000</td>\n",
       "      <td>AS</td>\n",
       "      <td>Tammann, G. \\&amp; Sandage, A. 1996in IAU Symp 168...</td>\n",
       "    </tr>\n",
       "    <tr>\n",
       "      <td>1</td>\n",
       "      <td>77.0</td>\n",
       "      <td>22.0</td>\n",
       "      <td>-2.0</td>\n",
       "      <td>1996.020</td>\n",
       "      <td>AV</td>\n",
       "      <td>VandenBergh, S. 1996, in IAU Symp 168, {\\it Ex...</td>\n",
       "    </tr>\n",
       "    <tr>\n",
       "      <td>2</td>\n",
       "      <td>56.0</td>\n",
       "      <td>5.0</td>\n",
       "      <td>-5.0</td>\n",
       "      <td>1996.050</td>\n",
       "      <td>OS</td>\n",
       "      <td>Sandage, A. 1996, AJ 111, 1.  Spiral Luminosit...</td>\n",
       "    </tr>\n",
       "    <tr>\n",
       "      <td>3</td>\n",
       "      <td>55.0</td>\n",
       "      <td>5.0</td>\n",
       "      <td>-5.0</td>\n",
       "      <td>1996.070</td>\n",
       "      <td>OS</td>\n",
       "      <td>Sandage, A. 1996, AJ 111, 18. M31+M101 look al...</td>\n",
       "    </tr>\n",
       "    <tr>\n",
       "      <td>4</td>\n",
       "      <td>55.0</td>\n",
       "      <td>10.0</td>\n",
       "      <td>-10.0</td>\n",
       "      <td>1996.100</td>\n",
       "      <td>AS</td>\n",
       "      <td>Tammann, G., Labhardt, L., Federspiel, M.</td>\n",
       "    </tr>\n",
       "    <tr>\n",
       "      <td>...</td>\n",
       "      <td>...</td>\n",
       "      <td>...</td>\n",
       "      <td>...</td>\n",
       "      <td>...</td>\n",
       "      <td>...</td>\n",
       "      <td>...</td>\n",
       "    </tr>\n",
       "    <tr>\n",
       "      <td>548</td>\n",
       "      <td>81.0</td>\n",
       "      <td>8.0</td>\n",
       "      <td>-8.0</td>\n",
       "      <td>1995.976</td>\n",
       "      <td>OV</td>\n",
       "      <td>VandenBergh, S. 1995, Science 270, 1942</td>\n",
       "    </tr>\n",
       "    <tr>\n",
       "      <td>549</td>\n",
       "      <td>66.0</td>\n",
       "      <td>6.0</td>\n",
       "      <td>-6.0</td>\n",
       "      <td>1995.990</td>\n",
       "      <td>S</td>\n",
       "      <td>Riess, A., Press, W. \\&amp; Kirshner, R. 1995, BAA...</td>\n",
       "    </tr>\n",
       "    <tr>\n",
       "      <td>550</td>\n",
       "      <td>67.4</td>\n",
       "      <td>0.5</td>\n",
       "      <td>-0.5</td>\n",
       "      <td>2018.500</td>\n",
       "      <td>C</td>\n",
       "      <td>Planck, A&amp;A https://www.cosmos.esa.int/documen...</td>\n",
       "    </tr>\n",
       "    <tr>\n",
       "      <td>551</td>\n",
       "      <td>67.4</td>\n",
       "      <td>0.7</td>\n",
       "      <td>-3.8</td>\n",
       "      <td>2018.500</td>\n",
       "      <td>C</td>\n",
       "      <td>Planck, A&amp;A , when LCDM assumptions are relaxe...</td>\n",
       "    </tr>\n",
       "    <tr>\n",
       "      <td>552</td>\n",
       "      <td>73.5</td>\n",
       "      <td>1.6</td>\n",
       "      <td>-1.6</td>\n",
       "      <td>2018.500</td>\n",
       "      <td>S</td>\n",
       "      <td>Riess, ApJ https://iopscience.iop.org/article/...</td>\n",
       "    </tr>\n",
       "  </tbody>\n",
       "</table>\n",
       "<p>553 rows × 6 columns</p>\n",
       "</div>"
      ],
      "text/plain": [
       "       h0    ep    em      date method  \\\n",
       "0    50.0   2.0  -2.0  1996.000     AS   \n",
       "1    77.0  22.0  -2.0  1996.020     AV   \n",
       "2    56.0   5.0  -5.0  1996.050     OS   \n",
       "3    55.0   5.0  -5.0  1996.070     OS   \n",
       "4    55.0  10.0 -10.0  1996.100     AS   \n",
       "..    ...   ...   ...       ...    ...   \n",
       "548  81.0   8.0  -8.0  1995.976     OV   \n",
       "549  66.0   6.0  -6.0  1995.990      S   \n",
       "550  67.4   0.5  -0.5  2018.500      C   \n",
       "551  67.4   0.7  -3.8  2018.500      C   \n",
       "552  73.5   1.6  -1.6  2018.500      S   \n",
       "\n",
       "                                                source  \n",
       "0    Tammann, G. \\& Sandage, A. 1996in IAU Symp 168...  \n",
       "1    VandenBergh, S. 1996, in IAU Symp 168, {\\it Ex...  \n",
       "2    Sandage, A. 1996, AJ 111, 1.  Spiral Luminosit...  \n",
       "3    Sandage, A. 1996, AJ 111, 18. M31+M101 look al...  \n",
       "4            Tammann, G., Labhardt, L., Federspiel, M.  \n",
       "..                                                 ...  \n",
       "548            VandenBergh, S. 1995, Science 270, 1942  \n",
       "549  Riess, A., Press, W. \\& Kirshner, R. 1995, BAA...  \n",
       "550  Planck, A&A https://www.cosmos.esa.int/documen...  \n",
       "551  Planck, A&A , when LCDM assumptions are relaxe...  \n",
       "552  Riess, ApJ https://iopscience.iop.org/article/...  \n",
       "\n",
       "[553 rows x 6 columns]"
      ]
     },
     "execution_count": 20,
     "metadata": {},
     "output_type": "execute_result"
    }
   ],
   "source": [
    "data"
   ]
  },
  {
   "cell_type": "code",
   "execution_count": 17,
   "metadata": {},
   "outputs": [
    {
     "name": "stdout",
     "output_type": "stream",
     "text": [
      " h0   ep    em    date   me                              source                            \n",
      "---- ---- ----- ------- --- ---------------------------------------------------------------\n",
      "50.0  2.0  -2.0  1996.0  AS  Tammann, G. \\& Sandage, A. 1996in IAU Symp 168, {\\it Examining\n",
      "77.0 22.0  -2.0 1996.02  AV  VandenBergh, S. 1996, in IAU Symp 168, {\\it Examining the Blac\n",
      "56.0  5.0  -5.0 1996.05  OS       Sandage, A. 1996, AJ 111, 1.  Spiral Luminosity Functions\n",
      "55.0  5.0  -5.0 1996.07  OS             Sandage, A. 1996, AJ 111, 18. M31+M101 look alikes.\n",
      "55.0 10.0 -10.0  1996.1  AS                       Tammann, G., Labhardt, L., Federspiel, M.\n",
      "84.0  4.0  -4.0 1996.14  PK                               Ford, H. \\etal 1996, ApJ 458, 455\n",
      "76.0  8.0  -8.0 1996.15   O           Zasov 1996, AstronLett 22, 71  Theory, Disk Stability\n",
      "67.0  9.0  -9.0 1996.17   S      Hoeflich, P. \\& Khokhlov, A. 1996, ApJ 457, 500. SN Theory\n",
      "57.0  4.0  -4.0 1996.22  SS        Sandage, A. \\etal 1996, ApJL 460, L15. N4639 + six  Ia's\n",
      "65.0  8.0  -8.0 1996.25   S   Hendry \\& Kanbur 1996, in Mapping, Measuring and Modeling the\n",
      " ...  ...   ...     ... ...                                                             ...\n",
      "57.0  3.0  -2.0 1995.86  SV                             VandenBergh, S. 1995, ApJL 453, L55\n",
      "78.0 11.0 -11.0 1995.91   G                          Whitmore, B. \\etal 1995, ApJL 454, L73\n",
      "70.0  9.0  -9.0 1995.93  AK  Freedman, W. 1995, in {\\it Science with the Hubble Space Teles\n",
      "55.0 10.0 -10.0 1995.94  AS   Tammann, G. \\etal 1995, in {\\it Science with the Hubble Space\n",
      "69.0  8.0  -8.0 1995.95   O  Tanvir, N. 1995, in {\\it Science with the Hubble Space Telesco\n",
      "78.0 11.0 -11.0 1995.96   G  Sparks, W. \\etal 1995, in {\\it Science with the Hubble Space T\n",
      "81.0  8.0  -8.0 1995.97  OV                         VandenBergh, S. 1995, Science 270, 1942\n",
      "66.0  6.0  -6.0 1995.99   S      Riess, A., Press, W. \\& Kirshner, R. 1995, BAAS 187, 1712.\n",
      "67.0  0.5  -0.5  2018.5   C Planck, A&A https://www.cosmos.esa.int/documents/387566/387653/\n",
      "67.0  0.7  -3.8  2018.5   C Planck, A&A , when LCDM assumptions are relaxed, systematic off\n",
      "73.0  1.6  -1.6  2018.5   S Riess, ApJ https://iopscience.iop.org/article/10.3847/1538-4357\n",
      "Length = 553 rows\n"
     ]
    }
   ],
   "source": [
    "data_table.pprint(max_width = 100)"
   ]
  },
  {
   "cell_type": "code",
   "execution_count": 21,
   "metadata": {},
   "outputs": [],
   "source": [
    "# the following method works in both pandas and astropy\n",
    "#h0 = data['h0']\n",
    "h0t = data_table['h0']\n",
    "#errplus = data['ep']\n",
    "#errminus=-data['em']\n",
    "#date=data['date']\n",
    "\n",
    "# this method works in pandas only\n",
    "h0 = data.h0\n",
    "errplus = data.ep\n",
    "errminus=-data.em\n",
    "date=data.date"
   ]
  },
  {
   "cell_type": "markdown",
   "metadata": {},
   "source": [
    "## Making plots with error bars\n",
    "\n",
    "__Bring up the documentation on `plt.errorbar` in the below code box.__"
   ]
  },
  {
   "cell_type": "code",
   "execution_count": 22,
   "metadata": {
    "collapsed": true,
    "jupyter": {
     "outputs_hidden": true
    }
   },
   "outputs": [
    {
     "data": {
      "text/plain": [
       "\u001b[0;31mSignature:\u001b[0m\n",
       "\u001b[0mplt\u001b[0m\u001b[0;34m.\u001b[0m\u001b[0merrorbar\u001b[0m\u001b[0;34m(\u001b[0m\u001b[0;34m\u001b[0m\n",
       "\u001b[0;34m\u001b[0m    \u001b[0mx\u001b[0m\u001b[0;34m,\u001b[0m\u001b[0;34m\u001b[0m\n",
       "\u001b[0;34m\u001b[0m    \u001b[0my\u001b[0m\u001b[0;34m,\u001b[0m\u001b[0;34m\u001b[0m\n",
       "\u001b[0;34m\u001b[0m    \u001b[0myerr\u001b[0m\u001b[0;34m=\u001b[0m\u001b[0;32mNone\u001b[0m\u001b[0;34m,\u001b[0m\u001b[0;34m\u001b[0m\n",
       "\u001b[0;34m\u001b[0m    \u001b[0mxerr\u001b[0m\u001b[0;34m=\u001b[0m\u001b[0;32mNone\u001b[0m\u001b[0;34m,\u001b[0m\u001b[0;34m\u001b[0m\n",
       "\u001b[0;34m\u001b[0m    \u001b[0mfmt\u001b[0m\u001b[0;34m=\u001b[0m\u001b[0;34m''\u001b[0m\u001b[0;34m,\u001b[0m\u001b[0;34m\u001b[0m\n",
       "\u001b[0;34m\u001b[0m    \u001b[0mecolor\u001b[0m\u001b[0;34m=\u001b[0m\u001b[0;32mNone\u001b[0m\u001b[0;34m,\u001b[0m\u001b[0;34m\u001b[0m\n",
       "\u001b[0;34m\u001b[0m    \u001b[0melinewidth\u001b[0m\u001b[0;34m=\u001b[0m\u001b[0;32mNone\u001b[0m\u001b[0;34m,\u001b[0m\u001b[0;34m\u001b[0m\n",
       "\u001b[0;34m\u001b[0m    \u001b[0mcapsize\u001b[0m\u001b[0;34m=\u001b[0m\u001b[0;32mNone\u001b[0m\u001b[0;34m,\u001b[0m\u001b[0;34m\u001b[0m\n",
       "\u001b[0;34m\u001b[0m    \u001b[0mbarsabove\u001b[0m\u001b[0;34m=\u001b[0m\u001b[0;32mFalse\u001b[0m\u001b[0;34m,\u001b[0m\u001b[0;34m\u001b[0m\n",
       "\u001b[0;34m\u001b[0m    \u001b[0mlolims\u001b[0m\u001b[0;34m=\u001b[0m\u001b[0;32mFalse\u001b[0m\u001b[0;34m,\u001b[0m\u001b[0;34m\u001b[0m\n",
       "\u001b[0;34m\u001b[0m    \u001b[0muplims\u001b[0m\u001b[0;34m=\u001b[0m\u001b[0;32mFalse\u001b[0m\u001b[0;34m,\u001b[0m\u001b[0;34m\u001b[0m\n",
       "\u001b[0;34m\u001b[0m    \u001b[0mxlolims\u001b[0m\u001b[0;34m=\u001b[0m\u001b[0;32mFalse\u001b[0m\u001b[0;34m,\u001b[0m\u001b[0;34m\u001b[0m\n",
       "\u001b[0;34m\u001b[0m    \u001b[0mxuplims\u001b[0m\u001b[0;34m=\u001b[0m\u001b[0;32mFalse\u001b[0m\u001b[0;34m,\u001b[0m\u001b[0;34m\u001b[0m\n",
       "\u001b[0;34m\u001b[0m    \u001b[0merrorevery\u001b[0m\u001b[0;34m=\u001b[0m\u001b[0;36m1\u001b[0m\u001b[0;34m,\u001b[0m\u001b[0;34m\u001b[0m\n",
       "\u001b[0;34m\u001b[0m    \u001b[0mcapthick\u001b[0m\u001b[0;34m=\u001b[0m\u001b[0;32mNone\u001b[0m\u001b[0;34m,\u001b[0m\u001b[0;34m\u001b[0m\n",
       "\u001b[0;34m\u001b[0m    \u001b[0;34m*\u001b[0m\u001b[0;34m,\u001b[0m\u001b[0;34m\u001b[0m\n",
       "\u001b[0;34m\u001b[0m    \u001b[0mdata\u001b[0m\u001b[0;34m=\u001b[0m\u001b[0;32mNone\u001b[0m\u001b[0;34m,\u001b[0m\u001b[0;34m\u001b[0m\n",
       "\u001b[0;34m\u001b[0m    \u001b[0;34m**\u001b[0m\u001b[0mkwargs\u001b[0m\u001b[0;34m,\u001b[0m\u001b[0;34m\u001b[0m\n",
       "\u001b[0;34m\u001b[0m\u001b[0;34m)\u001b[0m\u001b[0;34m\u001b[0m\u001b[0;34m\u001b[0m\u001b[0m\n",
       "\u001b[0;31mDocstring:\u001b[0m\n",
       "Plot y versus x as lines and/or markers with attached errorbars.\n",
       "\n",
       "*x*, *y* define the data locations, *xerr*, *yerr* define the errorbar\n",
       "sizes. By default, this draws the data markers/lines as well the\n",
       "errorbars. Use fmt='none' to draw errorbars without any data markers.\n",
       "\n",
       "Parameters\n",
       "----------\n",
       "x, y : scalar or array-like\n",
       "    The data positions.\n",
       "\n",
       "xerr, yerr : scalar or array-like, shape(N,) or shape(2,N), optional\n",
       "    The errorbar sizes:\n",
       "\n",
       "    - scalar: Symmetric +/- values for all data points.\n",
       "    - shape(N,): Symmetric +/-values for each data point.\n",
       "    - shape(2,N): Separate - and + values for each bar. First row\n",
       "        contains the lower errors, the second row contains the\n",
       "        upper errors.\n",
       "    - *None*: No errorbar.\n",
       "\n",
       "    Note that all error arrays should have *positive* values.\n",
       "\n",
       "    See :doc:`/gallery/statistics/errorbar_features`\n",
       "    for an example on the usage of ``xerr`` and ``yerr``.\n",
       "\n",
       "fmt : plot format string, optional, default: ''\n",
       "    The format for the data points / data lines. See `.plot` for\n",
       "    details.\n",
       "\n",
       "    Use 'none' (case insensitive) to plot errorbars without any data\n",
       "    markers.\n",
       "\n",
       "ecolor : mpl color, optional, default: None\n",
       "    A matplotlib color arg which gives the color the errorbar lines.\n",
       "    If None, use the color of the line connecting the markers.\n",
       "\n",
       "elinewidth : scalar, optional, default: None\n",
       "    The linewidth of the errorbar lines. If None, the linewidth of\n",
       "    the current style is used.\n",
       "\n",
       "capsize : scalar, optional, default: None\n",
       "    The length of the error bar caps in points. If None, it will take\n",
       "    the value from :rc:`errorbar.capsize`.\n",
       "\n",
       "capthick : scalar, optional, default: None\n",
       "    An alias to the keyword argument *markeredgewidth* (a.k.a. *mew*).\n",
       "    This setting is a more sensible name for the property that\n",
       "    controls the thickness of the error bar cap in points. For\n",
       "    backwards compatibility, if *mew* or *markeredgewidth* are given,\n",
       "    then they will over-ride *capthick*. This may change in future\n",
       "    releases.\n",
       "\n",
       "barsabove : bool, optional, default: False\n",
       "    If True, will plot the errorbars above the plot\n",
       "    symbols. Default is below.\n",
       "\n",
       "lolims, uplims, xlolims, xuplims : bool, optional, default: False\n",
       "    These arguments can be used to indicate that a value gives only\n",
       "    upper/lower limits. In that case a caret symbol is used to\n",
       "    indicate this. *lims*-arguments may be of the same type as *xerr*\n",
       "    and *yerr*.  To use limits with inverted axes, :meth:`set_xlim`\n",
       "    or :meth:`set_ylim` must be called before :meth:`errorbar`.\n",
       "\n",
       "errorevery : positive integer, optional, default: 1\n",
       "    Subsamples the errorbars. e.g., if errorevery=5, errorbars for\n",
       "    every 5-th datapoint will be plotted. The data plot itself still\n",
       "    shows all data points.\n",
       "\n",
       "Returns\n",
       "-------\n",
       "container : :class:`~.container.ErrorbarContainer`\n",
       "    The container contains:\n",
       "\n",
       "    - plotline: :class:`~matplotlib.lines.Line2D` instance of\n",
       "      x, y plot markers and/or line.\n",
       "    - caplines: A tuple of :class:`~matplotlib.lines.Line2D` instances\n",
       "      of the error bar caps.\n",
       "    - barlinecols: A tuple of\n",
       "      :class:`~matplotlib.collections.LineCollection` with the\n",
       "      horizontal and vertical error ranges.\n",
       "\n",
       "Other Parameters\n",
       "----------------\n",
       "**kwargs\n",
       "    All other keyword arguments are passed on to the plot\n",
       "    command for the markers. For example, this code makes big red\n",
       "    squares with thick green edges::\n",
       "\n",
       "        x,y,yerr = rand(3,10)\n",
       "        errorbar(x, y, yerr, marker='s', mfc='red',\n",
       "                 mec='green', ms=20, mew=4)\n",
       "\n",
       "    where *mfc*, *mec*, *ms* and *mew* are aliases for the longer\n",
       "    property names, *markerfacecolor*, *markeredgecolor*, *markersize*\n",
       "    and *markeredgewidth*.\n",
       "\n",
       "    Valid kwargs for the marker properties are `.Lines2D` properties:\n",
       "\n",
       "  agg_filter: a filter function, which takes a (m, n, 3) float array and a dpi value, and returns a (m, n, 3) array\n",
       "  alpha: float\n",
       "  animated: bool\n",
       "  antialiased or aa: bool\n",
       "  clip_box: `.Bbox`\n",
       "  clip_on: bool\n",
       "  clip_path: [(`~matplotlib.path.Path`, `.Transform`) | `.Patch` | None]\n",
       "  color or c: color\n",
       "  contains: callable\n",
       "  dash_capstyle: {'butt', 'round', 'projecting'}\n",
       "  dash_joinstyle: {'miter', 'round', 'bevel'}\n",
       "  dashes: sequence of floats (on/off ink in points) or (None, None)\n",
       "  drawstyle or ds: {'default', 'steps', 'steps-pre', 'steps-mid', 'steps-post'}, default: 'default'\n",
       "  figure: `.Figure`\n",
       "  fillstyle: {'full', 'left', 'right', 'bottom', 'top', 'none'}\n",
       "  gid: str\n",
       "  in_layout: bool\n",
       "  label: object\n",
       "  linestyle or ls: {'-', '--', '-.', ':', '', (offset, on-off-seq), ...}\n",
       "  linewidth or lw: float\n",
       "  marker: marker style\n",
       "  markeredgecolor or mec: color\n",
       "  markeredgewidth or mew: float\n",
       "  markerfacecolor or mfc: color\n",
       "  markerfacecoloralt or mfcalt: color\n",
       "  markersize or ms: float\n",
       "  markevery: None or int or (int, int) or slice or List[int] or float or (float, float)\n",
       "  path_effects: `.AbstractPathEffect`\n",
       "  picker: float or callable[[Artist, Event], Tuple[bool, dict]]\n",
       "  pickradius: float\n",
       "  rasterized: bool or None\n",
       "  sketch_params: (scale: float, length: float, randomness: float)\n",
       "  snap: bool or None\n",
       "  solid_capstyle: {'butt', 'round', 'projecting'}\n",
       "  solid_joinstyle: {'miter', 'round', 'bevel'}\n",
       "  transform: `matplotlib.transforms.Transform`\n",
       "  url: str\n",
       "  visible: bool\n",
       "  xdata: 1D array\n",
       "  ydata: 1D array\n",
       "  zorder: float\n",
       "\n",
       "Notes\n",
       "-----\n",
       "\n",
       "\n",
       ".. note::\n",
       "    In addition to the above described arguments, this function can take a\n",
       "    **data** keyword argument. If such a **data** argument is given, the\n",
       "    following arguments are replaced by **data[<arg>]**:\n",
       "\n",
       "    * All arguments with the following names: 'x', 'xerr', 'y', 'yerr'.\n",
       "\n",
       "    Objects passed as **data** must support item access (``data[<arg>]``) and\n",
       "    membership test (``<arg> in data``).\n",
       "\u001b[0;31mFile:\u001b[0m      /mnt/sda5/anaconda3/lib/python3.7/site-packages/matplotlib/pyplot.py\n",
       "\u001b[0;31mType:\u001b[0m      function\n"
      ]
     },
     "metadata": {},
     "output_type": "display_data"
    }
   ],
   "source": [
    "?plt.errorbar"
   ]
  },
  {
   "cell_type": "markdown",
   "metadata": {},
   "source": [
    "__In the below box, make a plot of H0 vs. year with error-bars given by either `errplus` or `errminus`.  Use the `fmt=` keyword to draw the points as blue circles (the same format coding as `plt.plot` is used here).  You will want to use the `yerr=` keyword.__"
   ]
  },
  {
   "cell_type": "code",
   "execution_count": 33,
   "metadata": {},
   "outputs": [
    {
     "data": {
      "image/png": "[encoded data removed]",
      "text/plain": [
       "<Figure size 576x576 with 1 Axes>"
      ]
     },
     "metadata": {
      "needs_background": "light"
     },
     "output_type": "display_data"
    }
   ],
   "source": [
    "plt.figure(figsize = (8, 8))\n",
    "plt.errorbar(date, h0, yerr = errplus, fmt = \"ob\")\n",
    "plt.show()"
   ]
  },
  {
   "cell_type": "markdown",
   "metadata": {},
   "source": [
    "__Now, we want to modify the plot in the above code box to use asymmetric error bars.__  To do that, you provide a Python `list` of two arrays containg one error for each measurement; i.e., generically, `yerr = [minus_error,plus_error]` where `minus_error` is the length of the lower error bar and `plus_error` is the length of the upper.\n",
    "\n",
    "__Also, limit the plot range to only show results from 2000 - 2010.__"
   ]
  },
  {
   "cell_type": "code",
   "execution_count": 34,
   "metadata": {},
   "outputs": [
    {
     "data": {
      "image/png": "[encoded data removed]",
      "text/plain": [
       "<Figure size 576x576 with 1 Axes>"
      ]
     },
     "metadata": {
      "needs_background": "light"
     },
     "output_type": "display_data"
    }
   ],
   "source": [
    "plt.figure(figsize = (8, 8))\n",
    "plt.errorbar(date, h0, yerr = [errminus, errplus], fmt = \"ob\")\n",
    "plt.xlim(2000, 2010)\n",
    "plt.ylim(0, 120)\n",
    "plt.show()"
   ]
  },
  {
   "cell_type": "markdown",
   "metadata": {},
   "source": [
    "## Plotting histograms of $H_0$ values\n",
    "\n",
    "We want to compare the distributions of $H_0$ values from 1999-2001 (pre-Key Project release), 2001-2003 (pre-WMAP), and 2003-2008.  \n",
    "\n",
    "__In the below code box, select measurements from each era and overplot histograms using different colors for each.  Use the `bins=` and/or `range=` keywords to ensure that the same binning is used for each sample, and that your binning is fine enough to be able to see the shape of the histogram (the default of 10 bins is rarely appropriate). Be sure to include a legend!__\n",
    "\n",
    "If you read things in with pandas, you can use `np.where()` to get the indices in each array for a given date range, and then plot the corresponding values by slicing h0.iloc with those indices; e.g.:\n",
    "\n",
    "    wh90s = np.where( np.logical_and(date > 1990, date < 2000) )\n",
    "    plt.hist(h0.iloc[wh90s])\n",
    "    \n",
    "Alternatively, you can use a boolean array to select the rows you want:\n",
    "\n",
    "    is90s = np.logical_and(date > 1990, date < 2000) \n",
    "    plt.hist(h0[is90s])\n",
    "\n",
    "If you read things in as an astropy `Table` or `recarray`, you can use `np.where()` to get the indices, and then plot the corresponding values by slicing the h0 values with those indices; e.g.:\n",
    "\n",
    "    wh90s = np.where( np.logical_and(date > 1990, date < 2000) )\n",
    "    plt.hist(h0t[wh90s])\n",
    "    \n",
    "    "
   ]
  },
  {
   "cell_type": "code",
   "execution_count": 49,
   "metadata": {},
   "outputs": [
    {
     "data": {
      "image/png": "[encoded data removed]",
      "text/plain": [
       "<Figure size 432x288 with 1 Axes>"
      ]
     },
     "metadata": {
      "needs_background": "light"
     },
     "output_type": "display_data"
    }
   ],
   "source": [
    "ispreKey = np.logical_and(date >= 1998, date < 2001) \n",
    "plt.hist(h0[ispreKey], label = \"Pre Key\", bins = 20, zorder = 0)\n",
    "\n",
    "ispreW = np.logical_and(date >= 2001, date < 2003) \n",
    "plt.hist(h0[ispreW], label = \"Pre WMAP\", bins = 20, zorder = 2)\n",
    "\n",
    "ispost = np.logical_and(date >= 2003, date < 2008) \n",
    "plt.hist(h0[ispost], label = \"Post WMAP\", bins = 20, zorder = 1)\n",
    "\n",
    "plt.legend()\n",
    "plt.show()"
   ]
  },
  {
   "cell_type": "markdown",
   "metadata": {},
   "source": [
    "# If you're waiting for other groups...\n",
    "\n",
    "- Try exploring the recarray version of the data (`data_table`) and applying its methods.\n",
    "\n",
    "- Matplotlib offers many customization options.  Check out http://matplotlib.org/users/customizing.html#dynamic-rc-settings for discussion of how to change the settings temporarily for a program (using `mpl.rc()`).  The example matplotlibrc file at the end of that page lists all the possible things to change; e.g. to change the linewidth (lines.linewidth in the matplotlibrc file) you would do \n",
    "\n",
    "    mpl.rc('lines',linewidth=2.0)\n",
    "    \n",
    "Try changing various line/font/etc. settings for your plots above.\n",
    "\n",
    "A good way to help make your plots prettier is to look at example code for the plots in the matplotlib gallery, https://matplotlib.org/stable/gallery/index.html .    "
   ]
  },
  {
   "cell_type": "markdown",
   "metadata": {},
   "source": [
    "# Bootstrap resampling\n",
    "\n",
    "In Python, one way to generate bootstraps, which works with numpy arrays but __not__ pandas series, is generating an array of random index numbers (i.e., sets of indices within the orignal array), and then addressing the original array we want to make bootstraps from with the array of index numbers.  Their shapes need not match.\n",
    "\n",
    "The easy way, though, is to use `numpy.random.choice()`.  __Check the documentation on this routine in the code box below.__\n",
    "\n",
    "If we want a one-dimensional array of samples, the `.sample()` method of a dataframe (or series) works. However, we want 2D, as we will create a set of `nbootstraps` new samples each of length `ndata`, so we couldn't use `Dataframe.sample()` without having to loop over the number of bootstrap samples.  \n",
    "\n",
    "Note that in general the default value of `replace=True` is what you want for bootstraps."
   ]
  },
  {
   "cell_type": "code",
   "execution_count": null,
   "metadata": {},
   "outputs": [],
   "source": []
  },
  {
   "cell_type": "code",
   "execution_count": 50,
   "metadata": {},
   "outputs": [],
   "source": [
    "hdata=h0[date > 2001]\n",
    "ndata=len(hdata)\n",
    "nbootstraps=int(1E4)\n",
    "\n",
    "# The below code would work if we used astropy, but not pandas.  \n",
    "#bootidx=np.floor((random.rand(nbootstraps,ndata)*ndata))\n",
    "#bootidx=bootidx.astype(int)\n",
    "#hboot=hdata[bootidx]\n",
    "\n",
    "# this works in pandas:\n",
    "hboot=np.random.choice(hdata,(nbootstraps,ndata))\n"
   ]
  },
  {
   "cell_type": "markdown",
   "metadata": {},
   "source": [
    "In the code box below, \n",
    "\n",
    "__1) determine the minimum and maximum values in hdata and in hboot__\n",
    "\n",
    "__2) Plot a histogram of the values in `np.ravel(hboot)`__\n",
    "\n",
    "__3) Determine the dimensions of hboot using `np.shape()`__"
   ]
  },
  {
   "cell_type": "code",
   "execution_count": 55,
   "metadata": {},
   "outputs": [
    {
     "data": {
      "image/png": "[encoded data removed]",
      "text/plain": [
       "<Figure size 432x288 with 1 Axes>"
      ]
     },
     "metadata": {
      "needs_background": "light"
     },
     "output_type": "display_data"
    },
    {
     "name": "stdout",
     "output_type": "stream",
     "text": [
      "min of data:  31.0 \n",
      "max of data:  91.0 \n",
      "min of boot:  31.0 \n",
      "max of boot:  91.0 \n",
      "shape of boot:  (10000, 134)\n"
     ]
    }
   ],
   "source": [
    "mindata = hdata.min()\n",
    "maxdata = hdata.max()\n",
    "minboot = hboot.min()\n",
    "maxboot = hboot.max()\n",
    "\n",
    "plt.hist(np.ravel(hboot), 20)\n",
    "plt.show()\n",
    "print(\"min of data: \", mindata, \"\\nmax of data: \", maxdata, \"\\nmin of boot: \", minboot, \"\\nmax of boot: \", maxboot, \"\\nshape of boot: \", np.shape(hboot))"
   ]
  },
  {
   "cell_type": "markdown",
   "metadata": {},
   "source": [
    "### Using the bootstrap simulations\n",
    "\n",
    "We can, for instance, compute the standard deviation of the mean for `hdata` by determining the standard deviation of the mean values from each bootstrap realization; but we could do this for any other statistic, too.  __Compare the standard deviation of the mean & of the median to what you'd expect for the standard error, using the code box below.__"
   ]
  },
  {
   "cell_type": "code",
   "execution_count": 56,
   "metadata": {},
   "outputs": [
    {
     "name": "stdout",
     "output_type": "stream",
     "text": [
      "Mean of means: 66.80500395522388 Median of means: 66.81567164179104\n",
      "Mean of hdata: 66.80820895522388 Median of hdata: 69.0\n",
      "Std of means: 0.7675034072905915 Std of medians: 1.1563968034805348\n",
      "Standard error: 0.7604122767250595\n"
     ]
    }
   ],
   "source": [
    "err_predicted=np.std(hdata)/np.sqrt(ndata)\n",
    "\n",
    "# compare to the standard deviation amongst the means, or amongst the medians, of each bootstrap sample:\n",
    "means=np.zeros(nbootstraps)\n",
    "\n",
    "# the slow way\n",
    "for i in np.arange(nbootstraps):\n",
    "    means[i]=np.mean(hboot[i,:])\n",
    "    \n",
    "# the fast way    \n",
    "medians = np.median(hboot,axis=1)    \n",
    "    \n",
    "print(\"Mean of means:\", np.mean(means), \"Median of means:\", np.median(means)) # write code to print the mean and median of the means\n",
    "print(\"Mean of hdata:\", np.mean(hdata), \"Median of hdata:\", np.median(hdata)) # write code to print the mean and median of hdata\n",
    "print(\"Std of means:\", np.std(means), \"Std of medians:\", np.std(medians)) # write code to print the std. dev. of the means and of the medians, \n",
    "# and compare to the predicted error\n",
    "print(\"Standard error:\", err_predicted)"
   ]
  },
  {
   "cell_type": "markdown",
   "metadata": {},
   "source": [
    "__What do the distributions look like?  Plot the histograms of both means and medians and compare (use a bin size of 0.1).  Discuss with your group: why do these look different from each other?__\n"
   ]
  },
  {
   "cell_type": "code",
   "execution_count": 58,
   "metadata": {},
   "outputs": [
    {
     "data": {
      "image/png": "[encoded data removed]",
      "text/plain": [
       "<Figure size 432x288 with 1 Axes>"
      ]
     },
     "metadata": {
      "needs_background": "light"
     },
     "output_type": "display_data"
    },
    {
     "data": {
      "image/png": "[encoded data removed]",
      "text/plain": [
       "<Figure size 432x288 with 1 Axes>"
      ]
     },
     "metadata": {
      "needs_background": "light"
     },
     "output_type": "display_data"
    }
   ],
   "source": [
    "plt.hist(means, bins = np.arange(means.min(), means.max(), 0.1))\n",
    "plt.show()\n",
    "plt.hist(medians, bins = np.arange(medians.min(), medians.max(), 0.1))\n",
    "plt.show()"
   ]
  },
  {
   "cell_type": "code",
   "execution_count": null,
   "metadata": {},
   "outputs": [],
   "source": []
  },
  {
   "cell_type": "markdown",
   "metadata": {},
   "source": [
    "# Percentiles and Sorting\n",
    "\n",
    "3 examples of ways to get a 95% range for the median:"
   ]
  },
  {
   "cell_type": "code",
   "execution_count": 61,
   "metadata": {},
   "outputs": [
    {
     "name": "stdout",
     "output_type": "stream",
     "text": [
      "[67. 71.]\n",
      "67.0 71.0\n",
      "67.0 71.0\n"
     ]
    }
   ],
   "source": [
    "# use np.percentile\n",
    "print( np.percentile(medians, [2.5, 97.5]) )\n",
    "\n",
    "# use np.sort to create a sorted array\n",
    "sortmedians = np.sort(medians)\n",
    "print( sortmedians[int(0.025*nbootstraps)],sortmedians[int(0.975*nbootstraps)] )\n",
    "\n",
    "#use np.argsort to get an array of indices that sort the medians array\n",
    "sortidx=np.argsort(medians)\n",
    "print( medians[sortidx[int(0.025*nbootstraps)]], medians[sortidx[int(0.975*nbootstraps)]] )\n"
   ]
  },
  {
   "cell_type": "markdown",
   "metadata": {},
   "source": [
    "__Now, using one of these methods, determine a 95% confidence interval for H0 from the means of each bootstrap sample.__"
   ]
  },
  {
   "cell_type": "code",
   "execution_count": 62,
   "metadata": {},
   "outputs": [
    {
     "name": "stdout",
     "output_type": "stream",
     "text": [
      "[65.28503731 68.28583955]\n"
     ]
    }
   ],
   "source": [
    "print( np.percentile(means, [2.5, 97.5]) )"
   ]
  },
  {
   "cell_type": "markdown",
   "metadata": {},
   "source": [
    "# Smoothed bootstraps\n",
    "\n",
    "We can get nicer-looking distributions of bootstrap results by adding a modest amount of noise to the data generated from bootstrapping.  Example: add N(0,1) noise to our H0 bootstraps:"
   ]
  },
  {
   "cell_type": "code",
   "execution_count": 64,
   "metadata": {},
   "outputs": [],
   "source": [
    "sboot=hboot+random.randn(nbootstraps,ndata)\n",
    "smeans = np.mean(sboot,axis=1) \n",
    "smedians=np.median(sboot,axis=1) "
   ]
  },
  {
   "cell_type": "markdown",
   "metadata": {},
   "source": [
    "__Overplot histograms of the `medians` and `smedians` arrays using the same binning for each.  Then, determine 95% confidence regions for the smoothed mean and smoothed median, and compare to your values from above.__"
   ]
  },
  {
   "cell_type": "code",
   "execution_count": 65,
   "metadata": {},
   "outputs": [
    {
     "data": {
      "image/png": "[encoded data removed]",
      "text/plain": [
       "<Figure size 432x288 with 1 Axes>"
      ]
     },
     "metadata": {
      "needs_background": "light"
     },
     "output_type": "display_data"
    }
   ],
   "source": [
    "plt.hist(medians, bins = np.arange(medians.min(), medians.max(), 0.1))\n",
    "plt.hist(smedians, bins = np.arange(medians.min(), medians.max(), 0.1))\n",
    "plt.show()"
   ]
  },
  {
   "cell_type": "code",
   "execution_count": 66,
   "metadata": {},
   "outputs": [
    {
     "name": "stdout",
     "output_type": "stream",
     "text": [
      "[67. 71.]\n",
      "[66.61662091 70.61786371]\n"
     ]
    }
   ],
   "source": [
    "print( np.percentile(medians, [2.5, 97.5]) )\n",
    "print( np.percentile(smedians, [2.5, 97.5]) )"
   ]
  }
 ],
 "metadata": {
  "anaconda-cloud": {},
  "kernelspec": {
   "display_name": "Python 3",
   "language": "python",
   "name": "python3"
  },
  "language_info": {
   "codemirror_mode": {
    "name": "ipython",
    "version": 3
   },
   "file_extension": ".py",
   "mimetype": "text/x-python",
   "name": "python",
   "nbconvert_exporter": "python",
   "pygments_lexer": "ipython3",
   "version": "3.7.4"
  }
 },
 "nbformat": 4,
 "nbformat_minor": 4
}
